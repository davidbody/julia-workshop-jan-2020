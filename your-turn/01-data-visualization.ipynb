{
 "cells": [
  {
   "cell_type": "markdown",
   "metadata": {},
   "source": [
    "# Your turn: Data Visualization with Gadfly.jl\n",
    "\n",
    "[Gadfly.jl documentation](http://gadflyjl.org/stable/)\n",
    "\n",
    "First, load the Gadfly and RDatasets packages.\n",
    "\n",
    "### This notebook includes solutions."
   ]
  },
  {
   "cell_type": "code",
   "execution_count": null,
   "metadata": {},
   "outputs": [],
   "source": [
    "using Gadfly, RDatasets"
   ]
  },
  {
   "cell_type": "markdown",
   "metadata": {},
   "source": [
    "We'll work with the `mpg` dataset from the `ggplot2` R package."
   ]
  },
  {
   "cell_type": "code",
   "execution_count": null,
   "metadata": {},
   "outputs": [],
   "source": [
    "mpg = dataset(\"ggplot2\", \"mpg\");"
   ]
  },
  {
   "cell_type": "markdown",
   "metadata": {},
   "source": [
    "For reference, here is a basic Gadfly.jl template:\n",
    "\n",
    "```julia\n",
    "plot(data::AbstractDataFrame, elements::Element...; mapping...)\n",
    "```\n",
    "\n",
    "For example,\n",
    "\n",
    "```julia\n",
    "plot(iris, x=:SepalLength, y=:SepalWidth, Geom.point)\n",
    "```\n",
    "\n",
    "Use this template and the `mpg` dataset to plot `Displ` vs `Hwy`."
   ]
  },
  {
   "cell_type": "code",
   "execution_count": null,
   "metadata": {},
   "outputs": [],
   "source": [
    "plot(mpg, x=:Displ, y=:Hwy)"
   ]
  },
  {
   "cell_type": "markdown",
   "metadata": {},
   "source": [
    "What do you think will happen if you run the following code?"
   ]
  },
  {
   "cell_type": "code",
   "execution_count": null,
   "metadata": {},
   "outputs": [],
   "source": [
    "plot(mpg, Geom.line)"
   ]
  },
  {
   "cell_type": "markdown",
   "metadata": {},
   "source": [
    "Answer: Nothing is plotted because there are no mappings (x, y, etc.)"
   ]
  },
  {
   "cell_type": "markdown",
   "metadata": {},
   "source": [
    "Make a scatterplot of `Cyl` vs `Hwy`. Note that `Cyl` takes on only discrete integer values."
   ]
  },
  {
   "cell_type": "code",
   "execution_count": null,
   "metadata": {},
   "outputs": [],
   "source": [
    "plot(mpg, x=:Cyl, y=:Hwy)"
   ]
  },
  {
   "cell_type": "markdown",
   "metadata": {},
   "source": [
    "What happens if you make a scatterplot of `Class` vs `Drv`? Why is the plot not useful?"
   ]
  },
  {
   "cell_type": "code",
   "execution_count": null,
   "metadata": {},
   "outputs": [],
   "source": [
    "plot(mpg, x=:Class, y=:Drv)"
   ]
  },
  {
   "cell_type": "markdown",
   "metadata": {},
   "source": [
    "Answer: Because the data contains only discrete integer values, many points are plotted on top of each other, so there is no way to see what is really going on."
   ]
  },
  {
   "cell_type": "markdown",
   "metadata": {},
   "source": [
    "What's wrong with the following code? How can you make the points red?"
   ]
  },
  {
   "cell_type": "code",
   "execution_count": null,
   "metadata": {},
   "outputs": [],
   "source": [
    "plot(mpg, x=:Displ, y=:Hwy, Geom.point, style(default_color=colorant\"red\"))"
   ]
  },
  {
   "cell_type": "markdown",
   "metadata": {},
   "source": [
    "Which variables in `mpg` are categorical? Which variables are continuous?\n",
    "\n",
    "*Hint:* Use the `describe` function. If the notebook doesn't show all columns, try `show(..., allcols=true)`."
   ]
  },
  {
   "cell_type": "code",
   "execution_count": null,
   "metadata": {},
   "outputs": [],
   "source": [
    "show(describe(mpg), allcols=true)"
   ]
  },
  {
   "cell_type": "markdown",
   "metadata": {},
   "source": [
    "Answer: \n",
    "\n",
    "Categorical | Continuos\n",
    "--------------|-----------------------\n",
    "Manufacturer | Displ\n",
    "Trans | Year\n",
    "Model | Cyl\n",
    "Drv | Cty\n",
    "Fl | Hwy\n",
    "Class |\n"
   ]
  },
  {
   "cell_type": "markdown",
   "metadata": {},
   "source": [
    "Map a continous variable to `color`, `size`, and `shape`. How do these aesthetics behave differently for categorical versus continuous variables?"
   ]
  },
  {
   "cell_type": "markdown",
   "metadata": {},
   "source": [
    "Answer: Using color, for example, here is a plot mapping color to `Trans`, which is categorical."
   ]
  },
  {
   "cell_type": "code",
   "execution_count": null,
   "metadata": {},
   "outputs": [],
   "source": [
    "plot(mpg, x=:Displ, y=:Hwy, color=:Trans)"
   ]
  },
  {
   "cell_type": "markdown",
   "metadata": {},
   "source": [
    "And here is a plot mapping color to `Cty`, which is continuous. Notice how the color scales differ."
   ]
  },
  {
   "cell_type": "code",
   "execution_count": null,
   "metadata": {},
   "outputs": [],
   "source": [
    "plot(mpg, x=:Displ, y=:Hwy, color=:Cty)"
   ]
  },
  {
   "cell_type": "code",
   "execution_count": null,
   "metadata": {},
   "outputs": [],
   "source": []
  }
 ],
 "metadata": {
  "kernelspec": {
   "display_name": "Julia 1.3.1",
   "language": "julia",
   "name": "julia-1.3"
  },
  "language_info": {
   "file_extension": ".jl",
   "mimetype": "application/julia",
   "name": "julia",
   "version": "1.3.1"
  }
 },
 "nbformat": 4,
 "nbformat_minor": 2
}

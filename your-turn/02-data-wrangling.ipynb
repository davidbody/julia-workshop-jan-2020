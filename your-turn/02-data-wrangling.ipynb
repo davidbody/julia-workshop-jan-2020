{
 "cells": [
  {
   "cell_type": "markdown",
   "metadata": {},
   "source": [
    "# Your turn: Data Wrangling\n",
    "\n",
    "[DataFrames.jl documentation](https://juliadata.github.io/DataFrames.jl/stable/)\n",
    "\n",
    "First load the `DataFrames` and `RData` packages. Then we'll load some R data.\n",
    "\n",
    "### This notebook contains solutions."
   ]
  },
  {
   "cell_type": "code",
   "execution_count": null,
   "metadata": {},
   "outputs": [],
   "source": [
    "using DataFrames\n",
    "using RData\n",
    "nycflights = load(\"../data/nycflights13.RData\")"
   ]
  },
  {
   "cell_type": "markdown",
   "metadata": {},
   "source": [
    "We'll work with the `flights` dataset from `nycflights13`."
   ]
  },
  {
   "cell_type": "code",
   "execution_count": null,
   "metadata": {},
   "outputs": [],
   "source": [
    "flights = nycflights[\"flights\"]\n",
    "describe(flights)"
   ]
  },
  {
   "cell_type": "markdown",
   "metadata": {},
   "source": [
    "## Find all flights that\n",
    "\n",
    "Departed from LaGuardia (LGA). (You should find 104,662 flights.)"
   ]
  },
  {
   "cell_type": "code",
   "execution_count": null,
   "metadata": {},
   "outputs": [],
   "source": [
    "flights[flights.origin .== \"LGA\", :]"
   ]
  },
  {
   "cell_type": "markdown",
   "metadata": {},
   "source": [
    "Flew to Houston (IAH or HOU). (You should find 9,313 flights.)\n",
    "\n",
    "*Hint:* You may need to add parentheses around certain expressions, depending on how you do this one."
   ]
  },
  {
   "cell_type": "code",
   "execution_count": null,
   "metadata": {},
   "outputs": [],
   "source": [
    "flights[in([\"IAH\", \"HOU\"]).(flights.dest), :]"
   ]
  },
  {
   "cell_type": "markdown",
   "metadata": {},
   "source": [
    "Had an arrival delay of two or more hours. (You should find 10,200 flights.)"
   ]
  },
  {
   "cell_type": "code",
   "execution_count": null,
   "metadata": {},
   "outputs": [],
   "source": [
    "flights[coalesce.(flights.arr_delay, 0) .>= 120, :]"
   ]
  },
  {
   "cell_type": "markdown",
   "metadata": {},
   "source": [
    "Were operated by United, American, or Delta (UA, AA, DL). (You should find 139,504 flights.)"
   ]
  },
  {
   "cell_type": "code",
   "execution_count": null,
   "metadata": {},
   "outputs": [],
   "source": [
    "flights[in([\"UA\", \"AA\", \"DL\"]).(flights.carrier), :]"
   ]
  },
  {
   "cell_type": "markdown",
   "metadata": {},
   "source": [
    "Arrived more than two hours late but didn't leave late. (You should find 29 flights.)"
   ]
  },
  {
   "cell_type": "code",
   "execution_count": null,
   "metadata": {},
   "outputs": [],
   "source": [
    "flights[(coalesce.(flights.arr_delay, 0) .> 120) .& (coalesce.(flights.dep_delay, 0) .<= 0), :]"
   ]
  },
  {
   "cell_type": "markdown",
   "metadata": {},
   "source": [
    "## Grouped summaries\n",
    "\n",
    "Which carrier had the worst average arrival delay? Hint: look at the final example in the data wrangling notebook.\n",
    "\n",
    "[Query.jl documentation](https://www.queryverse.org/Query.jl/stable/)"
   ]
  },
  {
   "cell_type": "code",
   "execution_count": null,
   "metadata": {},
   "outputs": [],
   "source": [
    "using Query\n",
    "using Statistics"
   ]
  },
  {
   "cell_type": "code",
   "execution_count": null,
   "metadata": {},
   "outputs": [],
   "source": [
    "flights |>\n",
    "  @select(:carrier, :arr_delay) |>\n",
    "  DataFrame |>\n",
    "  (df -> groupby(df, :carrier)) |>\n",
    "  (df -> aggregate(df, x->mean(coalesce.(x, 0)))) |>\n",
    "  @rename(:arr_delay_function => :mean_arrival_delay) |>\n",
    "  @orderby_descending(_.mean_arrival_delay)"
   ]
  },
  {
   "cell_type": "markdown",
   "metadata": {},
   "source": [
    "Answer: \"F9\" (Frontier Airlines Inc.)"
   ]
  },
  {
   "cell_type": "code",
   "execution_count": null,
   "metadata": {},
   "outputs": [],
   "source": []
  }
 ],
 "metadata": {
  "kernelspec": {
   "display_name": "Julia 1.3.1",
   "language": "julia",
   "name": "julia-1.3"
  },
  "language_info": {
   "file_extension": ".jl",
   "mimetype": "application/julia",
   "name": "julia",
   "version": "1.3.1"
  }
 },
 "nbformat": 4,
 "nbformat_minor": 2
}

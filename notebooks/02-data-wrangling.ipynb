{
 "cells": [
  {
   "cell_type": "markdown",
   "metadata": {},
   "source": [
    "# DataFrames and data wrangling\n",
    "\n",
    "In this notebook we will look at the [DataFrames.jl](https://juliadata.github.io/DataFrames.jl/stable/) package.\n",
    "\n",
    "`DataFrame` objects contain data tables consisting of a series of vectors, each representing a column or variable.\n",
    "\n",
    "We will focus on the following operations:\n",
    "\n",
    "* Filtering rows\n",
    "* Selecting columns\n",
    "* Adding and modifying columns\n",
    "* Sorting\n",
    "* Performing caculations on all rows or by groups of rows\n",
    "\n",
    "The [DataFramesMeta.jl](https://github.com/JuliaData/DataFramesMeta.jl) and [Query.jl](https://www.queryverse.org/Query.jl/stable/) packages provide additional functionality for working with DataFrames. We'll use some functions from Query.jl in this notebook.\n",
    "\n",
    "As always we first have to load the package."
   ]
  },
  {
   "cell_type": "code",
   "execution_count": null,
   "metadata": {},
   "outputs": [],
   "source": [
    "using DataFrames"
   ]
  },
  {
   "cell_type": "markdown",
   "metadata": {},
   "source": [
    "Here is a simple `DataFrame` object created with code."
   ]
  },
  {
   "cell_type": "code",
   "execution_count": null,
   "metadata": {},
   "outputs": [],
   "source": [
    "df = DataFrame(x = 1:5, y = [\"red\", \"blue\", \"red\", \"blue\", \"green\"])"
   ]
  },
  {
   "cell_type": "markdown",
   "metadata": {},
   "source": [
    "Individual columns can be refenced as `df.y` or `df[!, :y]`. Neither of these makes a copy of the column, so if the data in the column changes, it will change for all references."
   ]
  },
  {
   "cell_type": "code",
   "execution_count": null,
   "metadata": {},
   "outputs": [],
   "source": [
    "y = df[!, :y]"
   ]
  },
  {
   "cell_type": "code",
   "execution_count": null,
   "metadata": {},
   "outputs": [],
   "source": [
    "y[3] = \"purple\""
   ]
  },
  {
   "cell_type": "code",
   "execution_count": null,
   "metadata": {},
   "outputs": [],
   "source": [
    "df"
   ]
  },
  {
   "cell_type": "markdown",
   "metadata": {},
   "source": [
    "To make a copy of a column, use `df[:, :y]` instead."
   ]
  },
  {
   "cell_type": "code",
   "execution_count": null,
   "metadata": {},
   "outputs": [],
   "source": [
    "y2 = df[:, :y]"
   ]
  },
  {
   "cell_type": "code",
   "execution_count": null,
   "metadata": {},
   "outputs": [],
   "source": [
    "y2[3] = \"yellow\""
   ]
  },
  {
   "cell_type": "code",
   "execution_count": null,
   "metadata": {},
   "outputs": [],
   "source": [
    "df, y2"
   ]
  },
  {
   "cell_type": "markdown",
   "metadata": {},
   "source": [
    "Notice that the data in `df` did not change this time."
   ]
  },
  {
   "cell_type": "markdown",
   "metadata": {},
   "source": [
    "## Missing values\n",
    "\n",
    "Julia supports representing missing values in the statistical sense that although we don't have data for a particular value, a valid value still theoretically exists. This is similar to `NULL` in SQL and `NA` in R.\n",
    "\n",
    "Let's look at how missing values propagate."
   ]
  },
  {
   "cell_type": "code",
   "execution_count": null,
   "metadata": {},
   "outputs": [],
   "source": [
    "missing + 1"
   ]
  },
  {
   "cell_type": "code",
   "execution_count": null,
   "metadata": {},
   "outputs": [],
   "source": [
    "\"a\" * missing"
   ]
  },
  {
   "cell_type": "code",
   "execution_count": null,
   "metadata": {},
   "outputs": [],
   "source": [
    "cos(missing)"
   ]
  },
  {
   "cell_type": "code",
   "execution_count": null,
   "metadata": {},
   "outputs": [],
   "source": [
    "true | true, true | false, false & true"
   ]
  },
  {
   "cell_type": "code",
   "execution_count": null,
   "metadata": {},
   "outputs": [],
   "source": [
    "missing | true, missing | false, missing & true"
   ]
  },
  {
   "cell_type": "code",
   "execution_count": null,
   "metadata": {},
   "outputs": [],
   "source": [
    "missing == missing # why?"
   ]
  },
  {
   "cell_type": "markdown",
   "metadata": {},
   "source": [
    "What happens if we have both missing and nonmissing values?"
   ]
  },
  {
   "cell_type": "code",
   "execution_count": null,
   "metadata": {},
   "outputs": [],
   "source": [
    "a = [1, 2, missing, 4]"
   ]
  },
  {
   "cell_type": "code",
   "execution_count": null,
   "metadata": {},
   "outputs": [],
   "source": [
    "using Statistics\n",
    "mean(a)"
   ]
  },
  {
   "cell_type": "markdown",
   "metadata": {},
   "source": [
    "We can skip missing values in calculations by using `skipmissing`."
   ]
  },
  {
   "cell_type": "code",
   "execution_count": null,
   "metadata": {},
   "outputs": [],
   "source": [
    "mean(skipmissing(a))"
   ]
  },
  {
   "cell_type": "markdown",
   "metadata": {},
   "source": [
    "Or we can replace missing values with some other value such as zero by using `coalesce`. Note that we call `coalesce.(a, 0)` to apply `coalesce` to each element of the array. We'll learn more about what the dot does in the section titled **Dot syntax for vectorizing functions and operators** later in this notebook."
   ]
  },
  {
   "cell_type": "code",
   "execution_count": null,
   "metadata": {},
   "outputs": [],
   "source": [
    "coalesce.(a, 0)"
   ]
  },
  {
   "cell_type": "code",
   "execution_count": null,
   "metadata": {},
   "outputs": [],
   "source": [
    "mean(coalesce.(a, 0))"
   ]
  },
  {
   "cell_type": "markdown",
   "metadata": {},
   "source": [
    "Note how the value of the mean is different than when we used `skipmissing`.\n",
    "\n",
    "Now lets see how missing values work in `DataFrames`."
   ]
  },
  {
   "cell_type": "code",
   "execution_count": null,
   "metadata": {},
   "outputs": [],
   "source": [
    "df = DataFrame(i = 1:5,\n",
    "               x = [missing, 4, missing, 2, 1],\n",
    "               y = [missing, missing, \"c\", \"d\", \"e\"])"
   ]
  },
  {
   "cell_type": "markdown",
   "metadata": {},
   "source": [
    "First, notice how the types of the columns containing missing data have changed.\n",
    "\n",
    "Next, we demostrate the `dropmissing` function from the `DataTables` package. This function drops rows of the dataframe that contain any missing values."
   ]
  },
  {
   "cell_type": "code",
   "execution_count": null,
   "metadata": {},
   "outputs": [],
   "source": [
    "dropmissing(df)"
   ]
  },
  {
   "cell_type": "markdown",
   "metadata": {},
   "source": [
    "We can also specify which columns to look at for missing values."
   ]
  },
  {
   "cell_type": "code",
   "execution_count": null,
   "metadata": {},
   "outputs": [],
   "source": [
    "dropmissing(df, :y)"
   ]
  },
  {
   "cell_type": "markdown",
   "metadata": {},
   "source": [
    "We can still use `skipmissing` on individual columns if we want."
   ]
  },
  {
   "cell_type": "code",
   "execution_count": null,
   "metadata": {},
   "outputs": [],
   "source": [
    "mean(skipmissing(df[!, :x]))"
   ]
  },
  {
   "cell_type": "markdown",
   "metadata": {},
   "source": [
    "## NYC flights\n",
    "\n",
    "For the rest of this notebook, we'll work with the `flights` dataset from the R package `nycflights`."
   ]
  },
  {
   "cell_type": "code",
   "execution_count": null,
   "metadata": {},
   "outputs": [],
   "source": [
    "using RData\n",
    "nycflights = load(\"../data/nycflights13.RData\")"
   ]
  },
  {
   "cell_type": "markdown",
   "metadata": {},
   "source": [
    "We can see descriptive statistics for a DataFrame using the `describe` function."
   ]
  },
  {
   "cell_type": "code",
   "execution_count": null,
   "metadata": {},
   "outputs": [],
   "source": [
    "flights = nycflights[\"flights\"]\n",
    "describe(flights)"
   ]
  },
  {
   "cell_type": "markdown",
   "metadata": {},
   "source": [
    "### Dot syntax for vectorizing functions and operators\n",
    "\n",
    "Before we learn about filtering, we need to learn about Julia's \"dot syntax\" for vectorizing functions and operators.\n",
    "\n",
    "Suppose we have a vector of floating point numbers:"
   ]
  },
  {
   "cell_type": "code",
   "execution_count": null,
   "metadata": {},
   "outputs": [],
   "source": [
    "A = [1.0, 2.0, 3.0]"
   ]
  },
  {
   "cell_type": "markdown",
   "metadata": {},
   "source": [
    "And suppose we want to calculate the sine of each number. We can calculate the sine of a number using the `sin` function like this:"
   ]
  },
  {
   "cell_type": "code",
   "execution_count": null,
   "metadata": {},
   "outputs": [],
   "source": [
    "sin(1.0)"
   ]
  },
  {
   "cell_type": "markdown",
   "metadata": {},
   "source": [
    "What happens if we call `sin` on `A`?"
   ]
  },
  {
   "cell_type": "code",
   "execution_count": null,
   "metadata": {},
   "outputs": [],
   "source": [
    "sin(A)"
   ]
  },
  {
   "cell_type": "markdown",
   "metadata": {},
   "source": [
    "The `sin` function doesn't know how to operate on the type `Array{Float64,1}`, which is how Julia describes a one-dimensional array of double precision (64-bit) floating point numbers.\n",
    "\n",
    "Some languages would require us to use a separate \"vectorized\" function, but in Julia, we can do this automatically usiing the following \"dot\" syntax:"
   ]
  },
  {
   "cell_type": "code",
   "execution_count": null,
   "metadata": {},
   "outputs": [],
   "source": [
    "sin.(A)"
   ]
  },
  {
   "cell_type": "markdown",
   "metadata": {},
   "source": [
    "The same thing works with operators, but the dot comes before the operator. For example:"
   ]
  },
  {
   "cell_type": "code",
   "execution_count": null,
   "metadata": {},
   "outputs": [],
   "source": [
    "A .^ 3"
   ]
  },
  {
   "cell_type": "markdown",
   "metadata": {},
   "source": [
    "### Filtering rows\n",
    "\n",
    "Here is an example of filtering rows. Suppose we want only the rows where `month` equals 7 and `day` equals 17. We use the `first` function to display just the first 6 rows of the result in the notebook.\n",
    "\n",
    "Notice the use of dot syntax."
   ]
  },
  {
   "cell_type": "code",
   "execution_count": null,
   "metadata": {},
   "outputs": [],
   "source": [
    "first(flights[(flights.month .== 7) .& (flights.day .== 17), :], 6)"
   ]
  },
  {
   "cell_type": "markdown",
   "metadata": {},
   "source": [
    "If we wanted rows where `month` is 11 or 12, we could do this. (The output is suppressed by the ; at the end.)"
   ]
  },
  {
   "cell_type": "code",
   "execution_count": null,
   "metadata": {},
   "outputs": [],
   "source": [
    "flights[(flights.month .== 11) .| (flights.month .== 12), :];"
   ]
  },
  {
   "cell_type": "markdown",
   "metadata": {},
   "source": [
    "The following does the same thing, but requires a little explanation. Here `in([11, 12])` actually returns a *function* that checks whether its argument is *in* the collection `[11, 12]`. This function is then vectorized (or broadcast) over the `month` column of the dataframe using a dot. The result is the rows of the dataframe for which month is 11 or 12. We then display just the first 6 rows."
   ]
  },
  {
   "cell_type": "code",
   "execution_count": null,
   "metadata": {},
   "outputs": [],
   "source": [
    "first(flights[in([11, 12]).(flights.month), :], 6)"
   ]
  },
  {
   "cell_type": "markdown",
   "metadata": {},
   "source": [
    "Julia takes a little getting used to, but can be very expressive and powerful."
   ]
  },
  {
   "cell_type": "markdown",
   "metadata": {},
   "source": [
    "### Selecting columns\n",
    "\n",
    "We select columns using the `select` and `select!` functions. The `select` function returns a new dataframe, while `select!` does an in-place select, returning a view into the existing dataframe. We'll just use `select`.\n",
    "\n",
    "Let's refresh our memory of what columns we have available."
   ]
  },
  {
   "cell_type": "code",
   "execution_count": null,
   "metadata": {},
   "outputs": [],
   "source": [
    "names(flights)"
   ]
  },
  {
   "cell_type": "markdown",
   "metadata": {},
   "source": [
    "We can select columns by name like this:"
   ]
  },
  {
   "cell_type": "code",
   "execution_count": null,
   "metadata": {},
   "outputs": [],
   "source": [
    "first(select(flights, [:year, :month, :day]), 6)"
   ]
  },
  {
   "cell_type": "markdown",
   "metadata": {},
   "source": [
    "We can also select columns by position, but this can easily result in errors if the columns of a dataframe later change."
   ]
  },
  {
   "cell_type": "code",
   "execution_count": null,
   "metadata": {},
   "outputs": [],
   "source": [
    "first(select(flights, [1, 3, 5]), 6)"
   ]
  },
  {
   "cell_type": "markdown",
   "metadata": {},
   "source": [
    "There several other ways we can select columns, but a handy one matches column names using a *regular expression*."
   ]
  },
  {
   "cell_type": "code",
   "execution_count": null,
   "metadata": {},
   "outputs": [],
   "source": [
    "first(select(flights, r\"^(dep|arr)\"), 6)"
   ]
  },
  {
   "cell_type": "markdown",
   "metadata": {},
   "source": [
    "### Adding and modifying columns\n",
    "\n",
    "We'll work with a subset of columns of the `flight` dataset. We could select those columns using standard `DataFrame` functionality like we did above, but this time we will select columns using the `@select` macro from the `Query.jl` package. This package provides functionality similar the `dplyr` package for R.\n",
    "\n",
    "Notice how we are also using Julia's pipe operator `|>`, which is similar to, *but not the same as*, `dplyr`'s `%>%` operator."
   ]
  },
  {
   "cell_type": "code",
   "execution_count": null,
   "metadata": {},
   "outputs": [],
   "source": [
    "using Query\n",
    "\n",
    "flights_sml = flights |> \n",
    "  @select(1:3, endswith(\"delay\"), :distance, :air_time) |>\n",
    "  DataFrame\n",
    "\n",
    "first(flights_sml, 6)"
   ]
  },
  {
   "cell_type": "markdown",
   "metadata": {},
   "source": [
    "Suppose we want to add a couple of caculated columns. We could do that using just the `DataFrames` package, but here we will add columns using the `@mutate` macro, also from `Query.jl`."
   ]
  },
  {
   "cell_type": "code",
   "execution_count": null,
   "metadata": {},
   "outputs": [],
   "source": [
    "flights_sml |>\n",
    "  @mutate(gain = _.dep_delay - _.arr_delay,\n",
    "          speed = (_.distance / _.air_time) * 60) |>\n",
    "  DataFrame |>\n",
    "  (x -> first(x, 6))"
   ]
  },
  {
   "cell_type": "markdown",
   "metadata": {},
   "source": [
    "### Sorting\n",
    "\n",
    "A `DataFrame` can be sorted using the standard `sort` function. Note that `sort` produces a copy of the `DataFrame`. To sort in place, use `sort!` instead."
   ]
  },
  {
   "cell_type": "code",
   "execution_count": null,
   "metadata": {},
   "outputs": [],
   "source": [
    "first(sort(flights_sml, (:year, :month, :day)), 6)"
   ]
  },
  {
   "cell_type": "markdown",
   "metadata": {},
   "source": [
    "## Performing calculations on all rows or groups of rows\n",
    "\n",
    "Since each column of a `DataFrame` is a vector of values, we can perform the usual operations on individual columns. For example, here we calculate the mean departure delay."
   ]
  },
  {
   "cell_type": "code",
   "execution_count": null,
   "metadata": {},
   "outputs": [],
   "source": [
    "using Statistics\n",
    "mean(flights_sml.dep_delay)"
   ]
  },
  {
   "cell_type": "markdown",
   "metadata": {},
   "source": [
    "Oops! Our dataset contains `missing` values. To exclude them, we can use the `skipmissing` function."
   ]
  },
  {
   "cell_type": "code",
   "execution_count": null,
   "metadata": {},
   "outputs": [],
   "source": [
    "mean(skipmissing(flights_sml.dep_delay))"
   ]
  },
  {
   "cell_type": "markdown",
   "metadata": {},
   "source": [
    "That worked, but stop and think. What does it mean if a flight departure delay (`dep_delay`) is missing?\n",
    "\n",
    "If a missing departure delay means an on-time departure, we should treat missing values as zero, like this. Notice that we use the dot operator to apply `coalesce` to each value in the column."
   ]
  },
  {
   "cell_type": "code",
   "execution_count": null,
   "metadata": {},
   "outputs": [],
   "source": [
    "mean(coalesce.(flights_sml.dep_delay, 0))"
   ]
  },
  {
   "cell_type": "markdown",
   "metadata": {},
   "source": [
    "The `DataFrames` package also contains an `aggregate` function that we can use on multiple columns.\n",
    "\n",
    "For example, we can sum each column like this:"
   ]
  },
  {
   "cell_type": "code",
   "execution_count": null,
   "metadata": {},
   "outputs": [],
   "source": [
    "aggregate(flights_sml, sum)"
   ]
  },
  {
   "cell_type": "markdown",
   "metadata": {},
   "source": [
    "To skip missing values"
   ]
  },
  {
   "cell_type": "code",
   "execution_count": null,
   "metadata": {},
   "outputs": [],
   "source": [
    "aggregate(flights_sml, x->sum(skipmissing(x)))"
   ]
  },
  {
   "cell_type": "markdown",
   "metadata": {},
   "source": [
    "Does it matter whether we use `skipmissing` or `coalesce` when calculating a sum?\n",
    "\n",
    "We can calculate means and sums like this:"
   ]
  },
  {
   "cell_type": "code",
   "execution_count": null,
   "metadata": {},
   "outputs": [],
   "source": [
    "aggregate(flights_sml, [sum, x->mean(coalesce.(x, 0))])"
   ]
  },
  {
   "cell_type": "markdown",
   "metadata": {},
   "source": [
    "The Jupyter notebook doesn't display all columns, but we can fix this by calling the `show` function with `allcols=true`."
   ]
  },
  {
   "cell_type": "code",
   "execution_count": null,
   "metadata": {},
   "outputs": [],
   "source": [
    "aggregate(flights_sml, [sum, x->mean(coalesce.(x, 0))]) |>\n",
    "  (df -> show(df, allcols=true))"
   ]
  },
  {
   "cell_type": "markdown",
   "metadata": {},
   "source": [
    "### Grouping\n",
    "\n",
    "Suppose we want to calculate mean departure delay by airline. We can do that using the `groupby` and `aggregate` functions.\n",
    "\n",
    "This example also introduces `@rename` and `@orderby_descending`."
   ]
  },
  {
   "cell_type": "code",
   "execution_count": null,
   "metadata": {},
   "outputs": [],
   "source": [
    "flights |>\n",
    "  @select(:carrier, :dep_delay) |>\n",
    "  DataFrame |>\n",
    "  (df -> groupby(df, :carrier)) |>\n",
    "  (df -> aggregate(df, x->mean(coalesce.(x, 0)))) |>\n",
    "  @rename(:dep_delay_function => :mean_departure_delay) |>\n",
    "  @orderby_descending(_.mean_departure_delay)"
   ]
  },
  {
   "cell_type": "markdown",
   "metadata": {},
   "source": [
    "### Final example\n",
    "\n",
    "As a final example, we will join the results we just computed with the `airlines` dataset to produce a more readable report."
   ]
  },
  {
   "cell_type": "code",
   "execution_count": null,
   "metadata": {},
   "outputs": [],
   "source": [
    "airlines = nycflights[\"airlines\"]"
   ]
  },
  {
   "cell_type": "code",
   "execution_count": null,
   "metadata": {},
   "outputs": [],
   "source": [
    "flights |>\n",
    "  @select(:carrier, :dep_delay) |>\n",
    "  DataFrame |>\n",
    "  (df -> groupby(df, :carrier)) |>\n",
    "  (df -> aggregate(df, x->mean(coalesce.(x, 0)))) |>\n",
    "  @rename(:dep_delay_function => :mean_departure_delay) |>\n",
    "  @join(airlines, _.carrier, _.carrier, {__.name, _.mean_departure_delay}) |>\n",
    "  @orderby_descending(_.mean_departure_delay)"
   ]
  },
  {
   "cell_type": "code",
   "execution_count": null,
   "metadata": {},
   "outputs": [],
   "source": []
  }
 ],
 "metadata": {
  "kernelspec": {
   "display_name": "Julia 1.3.1",
   "language": "julia",
   "name": "julia-1.3"
  },
  "language_info": {
   "file_extension": ".jl",
   "mimetype": "application/julia",
   "name": "julia",
   "version": "1.3.1"
  }
 },
 "nbformat": 4,
 "nbformat_minor": 2
}

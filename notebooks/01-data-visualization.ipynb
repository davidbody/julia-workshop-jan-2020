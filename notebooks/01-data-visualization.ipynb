{
 "cells": [
  {
   "cell_type": "markdown",
   "metadata": {},
   "source": [
    "# Data Visualization with Gadfly.js\n",
    "\n",
    "[Gadfly.jl documentation](http://gadflyjl.org/stable/)"
   ]
  },
  {
   "cell_type": "markdown",
   "metadata": {},
   "source": [
    "First we'll load the packages we need."
   ]
  },
  {
   "cell_type": "code",
   "execution_count": null,
   "metadata": {},
   "outputs": [],
   "source": [
    "using Gadfly, RDatasets"
   ]
  },
  {
   "cell_type": "markdown",
   "metadata": {},
   "source": [
    "Now we'll load the `mpg` dataset from `ggplot2` and look at the first few rows."
   ]
  },
  {
   "cell_type": "code",
   "execution_count": null,
   "metadata": {},
   "outputs": [],
   "source": [
    "mpg = dataset(\"ggplot2\", \"mpg\")\n",
    "show(first(mpg, 6), allcols=true)"
   ]
  },
  {
   "cell_type": "markdown",
   "metadata": {},
   "source": [
    "And we'll make a scatterplot of `Displ` against `Hwy`. To do that we call the `plot` function passing in a dataframe, mappings of columns of the dataframe to `x` and `y`, and the \"geometry\" for the plot. In this case we specify `Geom.point`."
   ]
  },
  {
   "cell_type": "code",
   "execution_count": null,
   "metadata": {},
   "outputs": [],
   "source": [
    "plot(mpg, x=:Displ, y=:Hwy, Geom.point)"
   ]
  },
  {
   "cell_type": "markdown",
   "metadata": {},
   "source": [
    "# Grammar of Graphics\n",
    "\n",
    "Gadfly.jl is based on `ggplot2`, which is based on a *grammar of graphics*.\n",
    "\n",
    "Let's start with the three most central elements of this grammar:\n",
    "\n",
    "* Data\n",
    "* Mapping of variables to aesthestic attributes\n",
    "* Layers of geometric elements\n",
    "\n",
    "In the plot above, the data variables `Displ` and `Hwy` were mapped to `x` and `y` locations of geometric elements of points.\n",
    "\n",
    "Now let's look at some additional mappings like `color`, `shape`, and `size` that can also be used with points."
   ]
  },
  {
   "cell_type": "code",
   "execution_count": null,
   "metadata": {},
   "outputs": [],
   "source": [
    "plot(mpg, x=:Displ, y=:Hwy, color=:Class, Geom.point)"
   ]
  },
  {
   "cell_type": "code",
   "execution_count": null,
   "metadata": {},
   "outputs": [],
   "source": [
    "plot(mpg, x=:Displ, y=:Hwy, shape=:Cyl, Geom.point)"
   ]
  },
  {
   "cell_type": "code",
   "execution_count": null,
   "metadata": {},
   "outputs": [],
   "source": [
    "plot(mpg, x=:Displ, y=:Hwy, size=:Drv, Geom.point)"
   ]
  },
  {
   "cell_type": "markdown",
   "metadata": {},
   "source": [
    "There is nothing, other than perhaps good taste, to stop us from combining these."
   ]
  },
  {
   "cell_type": "code",
   "execution_count": null,
   "metadata": {},
   "outputs": [],
   "source": [
    "plot(mpg, x=:Displ, y=:Hwy, color=:Class, shape=:Cyl, size=:Drv, Geom.point)"
   ]
  },
  {
   "cell_type": "markdown",
   "metadata": {},
   "source": [
    "A better way to visualize multiple variables might be to use facets (another element of the grammar of graphics)."
   ]
  },
  {
   "cell_type": "code",
   "execution_count": null,
   "metadata": {},
   "outputs": [],
   "source": [
    "plot(mpg, x=:Displ, y=:Hwy, xgroup=:Drv, Geom.subplot_grid(Geom.point))"
   ]
  },
  {
   "cell_type": "markdown",
   "metadata": {},
   "source": [
    "We can also plot multiple layers. For example, here we use `Geom.smooth` to add a linear regression line."
   ]
  },
  {
   "cell_type": "code",
   "execution_count": null,
   "metadata": {},
   "outputs": [],
   "source": [
    "scatter = layer(mpg, x=:Displ, y=:Hwy, Geom.point)\n",
    "line = layer(mpg, x=:Displ, y=:Hwy, Geom.smooth(method=:lm), style(default_color=colorant\"red\"))\n",
    "plot(scatter, line)"
   ]
  },
  {
   "cell_type": "markdown",
   "metadata": {},
   "source": [
    "Take note of the call to the `style` function to override the `default_color` of the current theme. Colors in Julia can be specified several ways, but the preferred way when calling a function is as above, `colorant\"red\"`. Many different color names are supported."
   ]
  },
  {
   "cell_type": "markdown",
   "metadata": {},
   "source": [
    "### Additional Geoms"
   ]
  },
  {
   "cell_type": "code",
   "execution_count": null,
   "metadata": {},
   "outputs": [],
   "source": [
    "plot(mpg, x=:Drv, y=:Hwy, Geom.point)"
   ]
  },
  {
   "cell_type": "code",
   "execution_count": null,
   "metadata": {},
   "outputs": [],
   "source": [
    "plot(mpg, x=:Drv, y=:Hwy, Geom.beeswarm)"
   ]
  },
  {
   "cell_type": "code",
   "execution_count": null,
   "metadata": {},
   "outputs": [],
   "source": [
    "plot(mpg, x=:Drv, y=:Hwy, Geom.boxplot)"
   ]
  },
  {
   "cell_type": "markdown",
   "metadata": {},
   "source": [
    "### Histograms and densities"
   ]
  },
  {
   "cell_type": "code",
   "execution_count": null,
   "metadata": {},
   "outputs": [],
   "source": [
    "plot(mpg, x=:Hwy, Geom.histogram)"
   ]
  },
  {
   "cell_type": "code",
   "execution_count": null,
   "metadata": {},
   "outputs": [],
   "source": [
    "plot(mpg, x=:Hwy, Geom.density)"
   ]
  },
  {
   "cell_type": "markdown",
   "metadata": {},
   "source": [
    "### Compare distributions of subgroups"
   ]
  },
  {
   "cell_type": "code",
   "execution_count": null,
   "metadata": {},
   "outputs": [],
   "source": [
    "plot(mpg, x=:Displ, color=:Drv, Geom.histogram)"
   ]
  },
  {
   "cell_type": "markdown",
   "metadata": {},
   "source": [
    "Here again, facets may be a better way to compare subgroups."
   ]
  },
  {
   "cell_type": "code",
   "execution_count": null,
   "metadata": {},
   "outputs": [],
   "source": [
    "plot(mpg, x=:Displ, color=:Drv, ygroup=:Drv, Geom.subplot_grid(Geom.histogram))"
   ]
  },
  {
   "cell_type": "markdown",
   "metadata": {},
   "source": [
    "### More information\n",
    "\n",
    "Other elements of the grammar of graphics include\n",
    "\n",
    "* Scales - two-way mappings of values in data space to and from values in aesthetic space\n",
    "* Coordinate systems - cartesian, polar, map projections (Gadfly only supports cartesian for now)\n",
    "* Themes - everything else (font size, background color, etc.)\n",
    "\n",
    "See the [Gadfly.jl documentation](http://gadflyjl.org/stable/) for more information."
   ]
  },
  {
   "cell_type": "code",
   "execution_count": null,
   "metadata": {},
   "outputs": [],
   "source": []
  }
 ],
 "metadata": {
  "kernelspec": {
   "display_name": "Julia 1.3.1",
   "language": "julia",
   "name": "julia-1.3"
  },
  "language_info": {
   "file_extension": ".jl",
   "mimetype": "application/julia",
   "name": "julia",
   "version": "1.3.1"
  }
 },
 "nbformat": 4,
 "nbformat_minor": 2
}

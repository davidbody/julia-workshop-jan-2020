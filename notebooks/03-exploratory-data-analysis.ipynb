{
 "cells": [
  {
   "cell_type": "markdown",
   "metadata": {},
   "source": [
    "# Exploratory Data Analysis\n",
    "\n",
    "\n",
    "First, let's look at a classic example of why it's important to plot data in addition to looking at statistics.\n",
    "\n",
    "## [Anscombe's quartet](https://en.wikipedia.org/wiki/Anscombe's_quartet)\n",
    "\n",
    "Anscombe's quartet is a set of four datasets with variables `X` and `Y`."
   ]
  },
  {
   "cell_type": "code",
   "execution_count": null,
   "metadata": {},
   "outputs": [],
   "source": [
    "using CSV\n",
    "using DataFrames\n",
    "using Gadfly\n",
    "using GLM\n",
    "using RDatasets\n",
    "using Statistics"
   ]
  },
  {
   "cell_type": "markdown",
   "metadata": {},
   "source": [
    "First we will load the dataset."
   ]
  },
  {
   "cell_type": "code",
   "execution_count": null,
   "metadata": {},
   "outputs": [],
   "source": [
    "anscombe = dataset(\"datasets\", \"anscombe\")"
   ]
  },
  {
   "cell_type": "markdown",
   "metadata": {},
   "source": [
    "Next we calculate means and standard deviations for each variable. Notice that they are all the same."
   ]
  },
  {
   "cell_type": "code",
   "execution_count": null,
   "metadata": {},
   "outputs": [],
   "source": [
    "describe(anscombe, :mean, :std)"
   ]
  },
  {
   "cell_type": "markdown",
   "metadata": {},
   "source": [
    "Each `X`, `Y` pair also has the same correlation."
   ]
  },
  {
   "cell_type": "code",
   "execution_count": null,
   "metadata": {},
   "outputs": [],
   "source": [
    "cor(anscombe[!, :X1], anscombe[!, :Y1]),\n",
    "cor(anscombe[!, :X2], anscombe[!, :Y2]),\n",
    "cor(anscombe[!, :X3], anscombe[!, :Y3]),\n",
    "cor(anscombe[!, :X4], anscombe[!, :Y4])"
   ]
  },
  {
   "cell_type": "markdown",
   "metadata": {},
   "source": [
    "Let's run linear regressions of each `Y` on its respective `X` and compare results. Note that the fitted slopes and intercepts are nearly the same."
   ]
  },
  {
   "cell_type": "code",
   "execution_count": null,
   "metadata": {},
   "outputs": [],
   "source": [
    "lm1 = lm(@formula(Y1 ~ X1), anscombe)\n",
    "lm2 = lm(@formula(Y2 ~ X2), anscombe)\n",
    "lm3 = lm(@formula(Y3 ~ X3), anscombe)\n",
    "lm4 = lm(@formula(Y4 ~ X4), anscombe)\n",
    "\n",
    "print(lm1)\n",
    "print(lm2)\n",
    "print(lm3)\n",
    "print(lm4)"
   ]
  },
  {
   "cell_type": "markdown",
   "metadata": {},
   "source": [
    "Now let's plot each set of `X`, `Y` values with a linear regression line. Note that the plots are quite different and that the linear regression lines are all the same."
   ]
  },
  {
   "cell_type": "code",
   "execution_count": null,
   "metadata": {},
   "outputs": [],
   "source": [
    "p1 = plot(anscombe, x=:X1, y=:Y1, Geom.point, Geom.smooth(method=:lm))\n",
    "p2 = plot(anscombe, x=:X2, y=:Y2, Geom.point, Geom.smooth(method=:lm))\n",
    "p3 = plot(anscombe, x=:X3, y=:Y3, Geom.point, Geom.smooth(method=:lm))\n",
    "p4 = plot(anscombe, x=:X4, y=:Y4, Geom.point, Geom.smooth(method=:lm))\n",
    "\n",
    "title(gridstack([p1 p2; p3 p4]), \"Anscombe's Quartet\")"
   ]
  },
  {
   "cell_type": "markdown",
   "metadata": {},
   "source": [
    "### Final example\n",
    "\n",
    "Here is a final example that illustrates why you should always plot your data."
   ]
  },
  {
   "cell_type": "code",
   "execution_count": null,
   "metadata": {},
   "outputs": [],
   "source": [
    "ds = CSV.read(\"../data/Datasaurus_data.csv\", header=[:x, :y]);"
   ]
  },
  {
   "cell_type": "markdown",
   "metadata": {},
   "source": [
    "Let's look at some statistics."
   ]
  },
  {
   "cell_type": "code",
   "execution_count": null,
   "metadata": {},
   "outputs": [],
   "source": [
    "describe(ds)"
   ]
  },
  {
   "cell_type": "code",
   "execution_count": null,
   "metadata": {},
   "outputs": [],
   "source": [
    "cor(ds.x, ds.y)"
   ]
  },
  {
   "cell_type": "markdown",
   "metadata": {},
   "source": [
    "And histograms of each variable."
   ]
  },
  {
   "cell_type": "code",
   "execution_count": null,
   "metadata": {},
   "outputs": [],
   "source": [
    "plot(ds, x=:x, Geom.histogram(bincount=30))"
   ]
  },
  {
   "cell_type": "code",
   "execution_count": null,
   "metadata": {},
   "outputs": [],
   "source": [
    "plot(ds, x=:y, Geom.histogram(bincount=30))"
   ]
  },
  {
   "cell_type": "markdown",
   "metadata": {},
   "source": [
    "So far, nothing really jumps out.\n",
    "\n",
    "How about a scatterplot?"
   ]
  },
  {
   "cell_type": "code",
   "execution_count": null,
   "metadata": {},
   "outputs": [],
   "source": [
    "plot(ds, x=:x, y=:y, Geom.point)"
   ]
  },
  {
   "cell_type": "markdown",
   "metadata": {},
   "source": [
    "And here it is again with a linear regression line."
   ]
  },
  {
   "cell_type": "code",
   "execution_count": null,
   "metadata": {},
   "outputs": [],
   "source": [
    "plot(ds, x=:x, y=:y, Geom.point, Geom.smooth(method=:lm))"
   ]
  },
  {
   "cell_type": "markdown",
   "metadata": {},
   "source": [
    "#### Always plot your data!"
   ]
  },
  {
   "cell_type": "code",
   "execution_count": null,
   "metadata": {},
   "outputs": [],
   "source": []
  }
 ],
 "metadata": {
  "kernelspec": {
   "display_name": "Julia 1.3.1",
   "language": "julia",
   "name": "julia-1.3"
  },
  "language_info": {
   "file_extension": ".jl",
   "mimetype": "application/julia",
   "name": "julia",
   "version": "1.3.1"
  }
 },
 "nbformat": 4,
 "nbformat_minor": 2
}

{
 "cells": [
  {
   "cell_type": "markdown",
   "metadata": {},
   "source": [
    "# DataFrames and data wrangling\n",
    "\n",
    "In this notebook we will look at the [DataFrames.jl](https://juliadata.github.io/DataFrames.jl/stable/) package.\n",
    "\n",
    "`DataFrame` objects contain data tables consisting of a series of vectors, each representing a column or variable.\n",
    "\n",
    "We will focus on the following operations:\n",
    "\n",
    "* Filtering rows\n",
    "* Selecting columns\n",
    "* Adding and modifying columns\n",
    "* Sorting\n",
    "* Performing caculations on all rows or by groups of rows\n",
    "\n",
    "We will also look at the [DataFramesMeta.jl](https://github.com/JuliaData/DataFramesMeta.jl) and [Query.jl](https://www.queryverse.org/Query.jl/stable/) packages that provide additional functionality for working with DataFrames.\n",
    "\n",
    "As always we first have to load the package."
   ]
  },
  {
   "cell_type": "code",
   "execution_count": 1,
   "metadata": {},
   "outputs": [],
   "source": [
    "using DataFrames"
   ]
  },
  {
   "cell_type": "markdown",
   "metadata": {},
   "source": [
    "Here is a simple `DataFrame` object created with code."
   ]
  },
  {
   "cell_type": "code",
   "execution_count": 2,
   "metadata": {},
   "outputs": [
    {
     "data": {
      "text/html": [
       "<table class=\"data-frame\"><thead><tr><th></th><th>x</th><th>y</th></tr><tr><th></th><th>Int64</th><th>String</th></tr></thead><tbody><p>5 rows × 2 columns</p><tr><th>1</th><td>1</td><td>red</td></tr><tr><th>2</th><td>2</td><td>blue</td></tr><tr><th>3</th><td>3</td><td>red</td></tr><tr><th>4</th><td>4</td><td>blue</td></tr><tr><th>5</th><td>5</td><td>green</td></tr></tbody></table>"
      ],
      "text/latex": [
       "\\begin{tabular}{r|cc}\n",
       "\t& x & y\\\\\n",
       "\t\\hline\n",
       "\t& Int64 & String\\\\\n",
       "\t\\hline\n",
       "\t1 & 1 & red \\\\\n",
       "\t2 & 2 & blue \\\\\n",
       "\t3 & 3 & red \\\\\n",
       "\t4 & 4 & blue \\\\\n",
       "\t5 & 5 & green \\\\\n",
       "\\end{tabular}\n"
      ],
      "text/plain": [
       "5×2 DataFrame\n",
       "│ Row │ x     │ y      │\n",
       "│     │ \u001b[90mInt64\u001b[39m │ \u001b[90mString\u001b[39m │\n",
       "├─────┼───────┼────────┤\n",
       "│ 1   │ 1     │ red    │\n",
       "│ 2   │ 2     │ blue   │\n",
       "│ 3   │ 3     │ red    │\n",
       "│ 4   │ 4     │ blue   │\n",
       "│ 5   │ 5     │ green  │"
      ]
     },
     "execution_count": 2,
     "metadata": {},
     "output_type": "execute_result"
    }
   ],
   "source": [
    "df = DataFrame(x = 1:5, y = [\"red\", \"blue\", \"red\", \"blue\", \"green\"])"
   ]
  },
  {
   "cell_type": "markdown",
   "metadata": {},
   "source": [
    "Individual columns can be refenced as `df.y` or `df[!, :y]`. Neither of these makes a copy of the column, so if the data in the column changes, it will change for all references."
   ]
  },
  {
   "cell_type": "code",
   "execution_count": 3,
   "metadata": {},
   "outputs": [
    {
     "data": {
      "text/plain": [
       "5-element Array{String,1}:\n",
       " \"red\"  \n",
       " \"blue\" \n",
       " \"red\"  \n",
       " \"blue\" \n",
       " \"green\""
      ]
     },
     "execution_count": 3,
     "metadata": {},
     "output_type": "execute_result"
    }
   ],
   "source": [
    "y = df[!, :y]"
   ]
  },
  {
   "cell_type": "code",
   "execution_count": 4,
   "metadata": {},
   "outputs": [
    {
     "data": {
      "text/plain": [
       "\"purple\""
      ]
     },
     "execution_count": 4,
     "metadata": {},
     "output_type": "execute_result"
    }
   ],
   "source": [
    "y[3] = \"purple\""
   ]
  },
  {
   "cell_type": "code",
   "execution_count": 5,
   "metadata": {},
   "outputs": [
    {
     "data": {
      "text/html": [
       "<table class=\"data-frame\"><thead><tr><th></th><th>x</th><th>y</th></tr><tr><th></th><th>Int64</th><th>String</th></tr></thead><tbody><p>5 rows × 2 columns</p><tr><th>1</th><td>1</td><td>red</td></tr><tr><th>2</th><td>2</td><td>blue</td></tr><tr><th>3</th><td>3</td><td>purple</td></tr><tr><th>4</th><td>4</td><td>blue</td></tr><tr><th>5</th><td>5</td><td>green</td></tr></tbody></table>"
      ],
      "text/latex": [
       "\\begin{tabular}{r|cc}\n",
       "\t& x & y\\\\\n",
       "\t\\hline\n",
       "\t& Int64 & String\\\\\n",
       "\t\\hline\n",
       "\t1 & 1 & red \\\\\n",
       "\t2 & 2 & blue \\\\\n",
       "\t3 & 3 & purple \\\\\n",
       "\t4 & 4 & blue \\\\\n",
       "\t5 & 5 & green \\\\\n",
       "\\end{tabular}\n"
      ],
      "text/plain": [
       "5×2 DataFrame\n",
       "│ Row │ x     │ y      │\n",
       "│     │ \u001b[90mInt64\u001b[39m │ \u001b[90mString\u001b[39m │\n",
       "├─────┼───────┼────────┤\n",
       "│ 1   │ 1     │ red    │\n",
       "│ 2   │ 2     │ blue   │\n",
       "│ 3   │ 3     │ purple │\n",
       "│ 4   │ 4     │ blue   │\n",
       "│ 5   │ 5     │ green  │"
      ]
     },
     "execution_count": 5,
     "metadata": {},
     "output_type": "execute_result"
    }
   ],
   "source": [
    "df"
   ]
  },
  {
   "cell_type": "markdown",
   "metadata": {},
   "source": [
    "To make a copy of a column, use `df[:, :y]` instead."
   ]
  },
  {
   "cell_type": "code",
   "execution_count": 6,
   "metadata": {},
   "outputs": [
    {
     "data": {
      "text/plain": [
       "5-element Array{String,1}:\n",
       " \"red\"   \n",
       " \"blue\"  \n",
       " \"purple\"\n",
       " \"blue\"  \n",
       " \"green\" "
      ]
     },
     "execution_count": 6,
     "metadata": {},
     "output_type": "execute_result"
    }
   ],
   "source": [
    "y2 = df[:, :y]"
   ]
  },
  {
   "cell_type": "code",
   "execution_count": 7,
   "metadata": {},
   "outputs": [
    {
     "data": {
      "text/plain": [
       "\"yellow\""
      ]
     },
     "execution_count": 7,
     "metadata": {},
     "output_type": "execute_result"
    }
   ],
   "source": [
    "y2[3] = \"yellow\""
   ]
  },
  {
   "cell_type": "code",
   "execution_count": 8,
   "metadata": {},
   "outputs": [
    {
     "data": {
      "text/plain": [
       "(5×2 DataFrame\n",
       "│ Row │ x     │ y      │\n",
       "│     │ \u001b[90mInt64\u001b[39m │ \u001b[90mString\u001b[39m │\n",
       "├─────┼───────┼────────┤\n",
       "│ 1   │ 1     │ red    │\n",
       "│ 2   │ 2     │ blue   │\n",
       "│ 3   │ 3     │ purple │\n",
       "│ 4   │ 4     │ blue   │\n",
       "│ 5   │ 5     │ green  │, [\"red\", \"blue\", \"yellow\", \"blue\", \"green\"])"
      ]
     },
     "execution_count": 8,
     "metadata": {},
     "output_type": "execute_result"
    }
   ],
   "source": [
    "df, y2"
   ]
  },
  {
   "cell_type": "markdown",
   "metadata": {},
   "source": [
    "Notice that the data in `df` did not change this time."
   ]
  },
  {
   "cell_type": "markdown",
   "metadata": {},
   "source": [
    "For the rest of this notebook, we'll work with the `flights` dataset from the R package `nycflights`."
   ]
  },
  {
   "cell_type": "code",
   "execution_count": 9,
   "metadata": {},
   "outputs": [
    {
     "data": {
      "text/plain": [
       "Dict{String,Any} with 5 entries:\n",
       "  \"airlines\" => 16×2 DataFrame…\n",
       "  \"airports\" => 1458×8 DataFrame. Omitted printing of 4 columns…\n",
       "  \"flights\"  => 336776×19 DataFrame. Omitted printing of 13 columns…\n",
       "  \"planes\"   => 3322×9 DataFrame. Omitted printing of 6 columns…\n",
       "  \"weather\"  => 26115×15 DataFrame. Omitted printing of 8 columns…"
      ]
     },
     "execution_count": 9,
     "metadata": {},
     "output_type": "execute_result"
    }
   ],
   "source": [
    "using RData\n",
    "nycflights = load(\"data/nycflights13.RData\")"
   ]
  },
  {
   "cell_type": "markdown",
   "metadata": {},
   "source": [
    "We can see descriptive statistics for a DataFrame using the `describe` function."
   ]
  },
  {
   "cell_type": "code",
   "execution_count": 10,
   "metadata": {},
   "outputs": [
    {
     "data": {
      "text/html": [
       "<table class=\"data-frame\"><thead><tr><th></th><th>variable</th><th>mean</th><th>min</th><th>median</th><th>max</th></tr><tr><th></th><th>Symbol</th><th>Union…</th><th>Any</th><th>Union…</th><th>Any</th></tr></thead><tbody><p>19 rows × 8 columns (omitted printing of 3 columns)</p><tr><th>1</th><td>year</td><td>2013.0</td><td>2013</td><td>2013.0</td><td>2013</td></tr><tr><th>2</th><td>month</td><td>6.54851</td><td>1</td><td>7.0</td><td>12</td></tr><tr><th>3</th><td>day</td><td>15.7108</td><td>1</td><td>16.0</td><td>31</td></tr><tr><th>4</th><td>dep_time</td><td>1349.11</td><td>1</td><td>1401.0</td><td>2400</td></tr><tr><th>5</th><td>sched_dep_time</td><td>1344.25</td><td>106</td><td>1359.0</td><td>2359</td></tr><tr><th>6</th><td>dep_delay</td><td>12.6391</td><td>-43.0</td><td>-2.0</td><td>1301.0</td></tr><tr><th>7</th><td>arr_time</td><td>1502.05</td><td>1</td><td>1535.0</td><td>2400</td></tr><tr><th>8</th><td>sched_arr_time</td><td>1536.38</td><td>1</td><td>1556.0</td><td>2359</td></tr><tr><th>9</th><td>arr_delay</td><td>6.89538</td><td>-86.0</td><td>-5.0</td><td>1272.0</td></tr><tr><th>10</th><td>carrier</td><td></td><td>9E</td><td></td><td>YV</td></tr><tr><th>11</th><td>flight</td><td>1971.92</td><td>1</td><td>1496.0</td><td>8500</td></tr><tr><th>12</th><td>tailnum</td><td></td><td>D942DN</td><td></td><td>N9EAMQ</td></tr><tr><th>13</th><td>origin</td><td></td><td>EWR</td><td></td><td>LGA</td></tr><tr><th>14</th><td>dest</td><td></td><td>ABQ</td><td></td><td>XNA</td></tr><tr><th>15</th><td>air_time</td><td>150.686</td><td>20.0</td><td>129.0</td><td>695.0</td></tr><tr><th>16</th><td>distance</td><td>1039.91</td><td>17.0</td><td>872.0</td><td>4983.0</td></tr><tr><th>17</th><td>hour</td><td>13.1802</td><td>1.0</td><td>13.0</td><td>23.0</td></tr><tr><th>18</th><td>minute</td><td>26.2301</td><td>0.0</td><td>29.0</td><td>59.0</td></tr><tr><th>19</th><td>time_hour</td><td></td><td>2013-01-01T05:00:00-05:00</td><td></td><td>2013-12-31T23:00:00-05:00</td></tr></tbody></table>"
      ],
      "text/latex": [
       "\\begin{tabular}{r|cccccc}\n",
       "\t& variable & mean & min & median & max & \\\\\n",
       "\t\\hline\n",
       "\t& Symbol & Union… & Any & Union… & Any & \\\\\n",
       "\t\\hline\n",
       "\t1 & year & 2013.0 & 2013 & 2013.0 & 2013 & $\\dots$ \\\\\n",
       "\t2 & month & 6.54851 & 1 & 7.0 & 12 & $\\dots$ \\\\\n",
       "\t3 & day & 15.7108 & 1 & 16.0 & 31 & $\\dots$ \\\\\n",
       "\t4 & dep\\_time & 1349.11 & 1 & 1401.0 & 2400 & $\\dots$ \\\\\n",
       "\t5 & sched\\_dep\\_time & 1344.25 & 106 & 1359.0 & 2359 & $\\dots$ \\\\\n",
       "\t6 & dep\\_delay & 12.6391 & -43.0 & -2.0 & 1301.0 & $\\dots$ \\\\\n",
       "\t7 & arr\\_time & 1502.05 & 1 & 1535.0 & 2400 & $\\dots$ \\\\\n",
       "\t8 & sched\\_arr\\_time & 1536.38 & 1 & 1556.0 & 2359 & $\\dots$ \\\\\n",
       "\t9 & arr\\_delay & 6.89538 & -86.0 & -5.0 & 1272.0 & $\\dots$ \\\\\n",
       "\t10 & carrier &  & 9E &  & YV & $\\dots$ \\\\\n",
       "\t11 & flight & 1971.92 & 1 & 1496.0 & 8500 & $\\dots$ \\\\\n",
       "\t12 & tailnum &  & D942DN &  & N9EAMQ & $\\dots$ \\\\\n",
       "\t13 & origin &  & EWR &  & LGA & $\\dots$ \\\\\n",
       "\t14 & dest &  & ABQ &  & XNA & $\\dots$ \\\\\n",
       "\t15 & air\\_time & 150.686 & 20.0 & 129.0 & 695.0 & $\\dots$ \\\\\n",
       "\t16 & distance & 1039.91 & 17.0 & 872.0 & 4983.0 & $\\dots$ \\\\\n",
       "\t17 & hour & 13.1802 & 1.0 & 13.0 & 23.0 & $\\dots$ \\\\\n",
       "\t18 & minute & 26.2301 & 0.0 & 29.0 & 59.0 & $\\dots$ \\\\\n",
       "\t19 & time\\_hour &  & 2013-01-01T05:00:00-05:00 &  & 2013-12-31T23:00:00-05:00 & $\\dots$ \\\\\n",
       "\\end{tabular}\n"
      ],
      "text/plain": [
       "19×8 DataFrame. Omitted printing of 4 columns\n",
       "│ Row │ variable       │ mean    │ min                       │ median │\n",
       "│     │ \u001b[90mSymbol\u001b[39m         │ \u001b[90mUnion…\u001b[39m  │ \u001b[90mAny\u001b[39m                       │ \u001b[90mUnion…\u001b[39m │\n",
       "├─────┼────────────────┼─────────┼───────────────────────────┼────────┤\n",
       "│ 1   │ year           │ 2013.0  │ 2013                      │ 2013.0 │\n",
       "│ 2   │ month          │ 6.54851 │ 1                         │ 7.0    │\n",
       "│ 3   │ day            │ 15.7108 │ 1                         │ 16.0   │\n",
       "│ 4   │ dep_time       │ 1349.11 │ 1                         │ 1401.0 │\n",
       "│ 5   │ sched_dep_time │ 1344.25 │ 106                       │ 1359.0 │\n",
       "│ 6   │ dep_delay      │ 12.6391 │ -43.0                     │ -2.0   │\n",
       "│ 7   │ arr_time       │ 1502.05 │ 1                         │ 1535.0 │\n",
       "│ 8   │ sched_arr_time │ 1536.38 │ 1                         │ 1556.0 │\n",
       "│ 9   │ arr_delay      │ 6.89538 │ -86.0                     │ -5.0   │\n",
       "│ 10  │ carrier        │         │ 9E                        │        │\n",
       "│ 11  │ flight         │ 1971.92 │ 1                         │ 1496.0 │\n",
       "│ 12  │ tailnum        │         │ D942DN                    │        │\n",
       "│ 13  │ origin         │         │ EWR                       │        │\n",
       "│ 14  │ dest           │         │ ABQ                       │        │\n",
       "│ 15  │ air_time       │ 150.686 │ 20.0                      │ 129.0  │\n",
       "│ 16  │ distance       │ 1039.91 │ 17.0                      │ 872.0  │\n",
       "│ 17  │ hour           │ 13.1802 │ 1.0                       │ 13.0   │\n",
       "│ 18  │ minute         │ 26.2301 │ 0.0                       │ 29.0   │\n",
       "│ 19  │ time_hour      │         │ 2013-01-01T05:00:00-05:00 │        │"
      ]
     },
     "execution_count": 10,
     "metadata": {},
     "output_type": "execute_result"
    }
   ],
   "source": [
    "flights = nycflights[\"flights\"]\n",
    "describe(flights)"
   ]
  },
  {
   "cell_type": "markdown",
   "metadata": {},
   "source": [
    "### Dot syntax for vectorizing functions and operators\n",
    "\n",
    "Before we learn about filtering, we need to learn about Julia's \"dot syntax\" for vectorizing functions and operators.\n",
    "\n",
    "Suppose we have a vector of floating point numbers:"
   ]
  },
  {
   "cell_type": "code",
   "execution_count": 11,
   "metadata": {},
   "outputs": [
    {
     "data": {
      "text/plain": [
       "3-element Array{Float64,1}:\n",
       " 1.0\n",
       " 2.0\n",
       " 3.0"
      ]
     },
     "execution_count": 11,
     "metadata": {},
     "output_type": "execute_result"
    }
   ],
   "source": [
    "A = [1.0, 2.0, 3.0]"
   ]
  },
  {
   "cell_type": "markdown",
   "metadata": {},
   "source": [
    "And suppose we want to calculate the sine of each number. We can calculate the sine of a number using the `sin` function like this:"
   ]
  },
  {
   "cell_type": "code",
   "execution_count": 12,
   "metadata": {},
   "outputs": [
    {
     "data": {
      "text/plain": [
       "0.8414709848078965"
      ]
     },
     "execution_count": 12,
     "metadata": {},
     "output_type": "execute_result"
    }
   ],
   "source": [
    "sin(1.0)"
   ]
  },
  {
   "cell_type": "markdown",
   "metadata": {},
   "source": [
    "What happens if we call `sin` on `A`?"
   ]
  },
  {
   "cell_type": "code",
   "execution_count": 13,
   "metadata": {},
   "outputs": [
    {
     "ename": "MethodError",
     "evalue": "MethodError: no method matching sin(::Array{Float64,1})\nClosest candidates are:\n  sin(!Matched::BigFloat) at mpfr.jl:743\n  sin(!Matched::Missing) at math.jl:1138\n  sin(!Matched::Complex{Float16}) at math.jl:1086\n  ...",
     "output_type": "error",
     "traceback": [
      "MethodError: no method matching sin(::Array{Float64,1})\nClosest candidates are:\n  sin(!Matched::BigFloat) at mpfr.jl:743\n  sin(!Matched::Missing) at math.jl:1138\n  sin(!Matched::Complex{Float16}) at math.jl:1086\n  ...",
      "",
      "Stacktrace:",
      " [1] top-level scope at In[13]:1"
     ]
    }
   ],
   "source": [
    "sin(A)"
   ]
  },
  {
   "cell_type": "markdown",
   "metadata": {},
   "source": [
    "The `sin` function doesn't know how to operate on the type `Array{Float64,1}`, which is how Julia describes a one-dimensional array of double precision (64-bit) floating point numbers.\n",
    "\n",
    "Some languages would require us to use a separate \"vectorized\" function, but in Julia, we can do this automatically usiing the following \"dot\" syntax:"
   ]
  },
  {
   "cell_type": "code",
   "execution_count": 14,
   "metadata": {},
   "outputs": [
    {
     "data": {
      "text/plain": [
       "3-element Array{Float64,1}:\n",
       " 0.8414709848078965\n",
       " 0.9092974268256817\n",
       " 0.1411200080598672"
      ]
     },
     "execution_count": 14,
     "metadata": {},
     "output_type": "execute_result"
    }
   ],
   "source": [
    "sin.(A)"
   ]
  },
  {
   "cell_type": "markdown",
   "metadata": {},
   "source": [
    "The same thing works with operators, but the dot comes after the operator. For example:"
   ]
  },
  {
   "cell_type": "code",
   "execution_count": 15,
   "metadata": {},
   "outputs": [
    {
     "data": {
      "text/plain": [
       "3-element Array{Float64,1}:\n",
       "  1.0\n",
       "  8.0\n",
       " 27.0"
      ]
     },
     "execution_count": 15,
     "metadata": {},
     "output_type": "execute_result"
    }
   ],
   "source": [
    "A .^ 3"
   ]
  },
  {
   "cell_type": "markdown",
   "metadata": {},
   "source": [
    "### Filtering rows\n",
    "\n",
    "Here is an example of filtering rows. We want only the rows where `month` equals 7 and `day` equals 17. We use the `first` function to display just the first 6 rows in the notebook.\n",
    "\n",
    "Notice the use of dot syntax."
   ]
  },
  {
   "cell_type": "code",
   "execution_count": 16,
   "metadata": {},
   "outputs": [
    {
     "data": {
      "text/html": [
       "<table class=\"data-frame\"><thead><tr><th></th><th>year</th><th>month</th><th>day</th><th>dep_time</th><th>sched_dep_time</th><th>dep_delay</th><th>arr_time</th><th>sched_arr_time</th></tr><tr><th></th><th>Int32</th><th>Int32</th><th>Int32</th><th>Int32⍰</th><th>Int32</th><th>Float64⍰</th><th>Int32⍰</th><th>Int32</th></tr></thead><tbody><p>6 rows × 19 columns (omitted printing of 11 columns)</p><tr><th>1</th><td>2013</td><td>7</td><td>17</td><td>2</td><td>2030</td><td>212.0</td><td>117</td><td>2202</td></tr><tr><th>2</th><td>2013</td><td>7</td><td>17</td><td>5</td><td>2359</td><td>6.0</td><td>345</td><td>340</td></tr><tr><th>3</th><td>2013</td><td>7</td><td>17</td><td>6</td><td>2135</td><td>151.0</td><td>245</td><td>30</td></tr><tr><th>4</th><td>2013</td><td>7</td><td>17</td><td>9</td><td>2305</td><td>64.0</td><td>113</td><td>13</td></tr><tr><th>5</th><td>2013</td><td>7</td><td>17</td><td>104</td><td>2359</td><td>65.0</td><td>440</td><td>344</td></tr><tr><th>6</th><td>2013</td><td>7</td><td>17</td><td>143</td><td>2030</td><td>313.0</td><td>242</td><td>2202</td></tr></tbody></table>"
      ],
      "text/latex": [
       "\\begin{tabular}{r|ccccccccc}\n",
       "\t& year & month & day & dep\\_time & sched\\_dep\\_time & dep\\_delay & arr\\_time & sched\\_arr\\_time & \\\\\n",
       "\t\\hline\n",
       "\t& Int32 & Int32 & Int32 & Int32⍰ & Int32 & Float64⍰ & Int32⍰ & Int32 & \\\\\n",
       "\t\\hline\n",
       "\t1 & 2013 & 7 & 17 & 2 & 2030 & 212.0 & 117 & 2202 & $\\dots$ \\\\\n",
       "\t2 & 2013 & 7 & 17 & 5 & 2359 & 6.0 & 345 & 340 & $\\dots$ \\\\\n",
       "\t3 & 2013 & 7 & 17 & 6 & 2135 & 151.0 & 245 & 30 & $\\dots$ \\\\\n",
       "\t4 & 2013 & 7 & 17 & 9 & 2305 & 64.0 & 113 & 13 & $\\dots$ \\\\\n",
       "\t5 & 2013 & 7 & 17 & 104 & 2359 & 65.0 & 440 & 344 & $\\dots$ \\\\\n",
       "\t6 & 2013 & 7 & 17 & 143 & 2030 & 313.0 & 242 & 2202 & $\\dots$ \\\\\n",
       "\\end{tabular}\n"
      ],
      "text/plain": [
       "6×19 DataFrame. Omitted printing of 13 columns\n",
       "│ Row │ year  │ month │ day   │ dep_time │ sched_dep_time │ dep_delay │\n",
       "│     │ \u001b[90mInt32\u001b[39m │ \u001b[90mInt32\u001b[39m │ \u001b[90mInt32\u001b[39m │ \u001b[90mInt32⍰\u001b[39m   │ \u001b[90mInt32\u001b[39m          │ \u001b[90mFloat64⍰\u001b[39m  │\n",
       "├─────┼───────┼───────┼───────┼──────────┼────────────────┼───────────┤\n",
       "│ 1   │ 2013  │ 7     │ 17    │ 2        │ 2030           │ 212.0     │\n",
       "│ 2   │ 2013  │ 7     │ 17    │ 5        │ 2359           │ 6.0       │\n",
       "│ 3   │ 2013  │ 7     │ 17    │ 6        │ 2135           │ 151.0     │\n",
       "│ 4   │ 2013  │ 7     │ 17    │ 9        │ 2305           │ 64.0      │\n",
       "│ 5   │ 2013  │ 7     │ 17    │ 104      │ 2359           │ 65.0      │\n",
       "│ 6   │ 2013  │ 7     │ 17    │ 143      │ 2030           │ 313.0     │"
      ]
     },
     "execution_count": 16,
     "metadata": {},
     "output_type": "execute_result"
    }
   ],
   "source": [
    "first(flights[(flights.month .== 7) .& (flights.day .== 17), :], 6)"
   ]
  },
  {
   "cell_type": "markdown",
   "metadata": {},
   "source": [
    "If we wanted rows where `month` is 11 or 12, we could do this. (The output is suppressed by the ; at the end.)"
   ]
  },
  {
   "cell_type": "code",
   "execution_count": 17,
   "metadata": {},
   "outputs": [],
   "source": [
    "flights[(flights.month .== 11) .| (flights.month .== 12), :];"
   ]
  },
  {
   "cell_type": "markdown",
   "metadata": {},
   "source": [
    "The following does the same thing, but requires a little explanation. Here `in[11, 12]` actually returns a *function* that checks whether its argument is *in* the collection `[11, 12]`. This function is then vectorized (or broadcast) over the `month` column of the dataframe. The result is the rows of the dataframe for which month is 11 or 12. We then display just the first 6 rows."
   ]
  },
  {
   "cell_type": "code",
   "execution_count": 18,
   "metadata": {},
   "outputs": [
    {
     "data": {
      "text/html": [
       "<table class=\"data-frame\"><thead><tr><th></th><th>year</th><th>month</th><th>day</th><th>dep_time</th><th>sched_dep_time</th><th>dep_delay</th><th>arr_time</th><th>sched_arr_time</th></tr><tr><th></th><th>Int32</th><th>Int32</th><th>Int32</th><th>Int32⍰</th><th>Int32</th><th>Float64⍰</th><th>Int32⍰</th><th>Int32</th></tr></thead><tbody><p>6 rows × 19 columns (omitted printing of 11 columns)</p><tr><th>1</th><td>2013</td><td>11</td><td>1</td><td>5</td><td>2359</td><td>6.0</td><td>352</td><td>345</td></tr><tr><th>2</th><td>2013</td><td>11</td><td>1</td><td>35</td><td>2250</td><td>105.0</td><td>123</td><td>2356</td></tr><tr><th>3</th><td>2013</td><td>11</td><td>1</td><td>455</td><td>500</td><td>-5.0</td><td>641</td><td>651</td></tr><tr><th>4</th><td>2013</td><td>11</td><td>1</td><td>539</td><td>545</td><td>-6.0</td><td>856</td><td>827</td></tr><tr><th>5</th><td>2013</td><td>11</td><td>1</td><td>542</td><td>545</td><td>-3.0</td><td>831</td><td>855</td></tr><tr><th>6</th><td>2013</td><td>11</td><td>1</td><td>549</td><td>600</td><td>-11.0</td><td>912</td><td>923</td></tr></tbody></table>"
      ],
      "text/latex": [
       "\\begin{tabular}{r|ccccccccc}\n",
       "\t& year & month & day & dep\\_time & sched\\_dep\\_time & dep\\_delay & arr\\_time & sched\\_arr\\_time & \\\\\n",
       "\t\\hline\n",
       "\t& Int32 & Int32 & Int32 & Int32⍰ & Int32 & Float64⍰ & Int32⍰ & Int32 & \\\\\n",
       "\t\\hline\n",
       "\t1 & 2013 & 11 & 1 & 5 & 2359 & 6.0 & 352 & 345 & $\\dots$ \\\\\n",
       "\t2 & 2013 & 11 & 1 & 35 & 2250 & 105.0 & 123 & 2356 & $\\dots$ \\\\\n",
       "\t3 & 2013 & 11 & 1 & 455 & 500 & -5.0 & 641 & 651 & $\\dots$ \\\\\n",
       "\t4 & 2013 & 11 & 1 & 539 & 545 & -6.0 & 856 & 827 & $\\dots$ \\\\\n",
       "\t5 & 2013 & 11 & 1 & 542 & 545 & -3.0 & 831 & 855 & $\\dots$ \\\\\n",
       "\t6 & 2013 & 11 & 1 & 549 & 600 & -11.0 & 912 & 923 & $\\dots$ \\\\\n",
       "\\end{tabular}\n"
      ],
      "text/plain": [
       "6×19 DataFrame. Omitted printing of 13 columns\n",
       "│ Row │ year  │ month │ day   │ dep_time │ sched_dep_time │ dep_delay │\n",
       "│     │ \u001b[90mInt32\u001b[39m │ \u001b[90mInt32\u001b[39m │ \u001b[90mInt32\u001b[39m │ \u001b[90mInt32⍰\u001b[39m   │ \u001b[90mInt32\u001b[39m          │ \u001b[90mFloat64⍰\u001b[39m  │\n",
       "├─────┼───────┼───────┼───────┼──────────┼────────────────┼───────────┤\n",
       "│ 1   │ 2013  │ 11    │ 1     │ 5        │ 2359           │ 6.0       │\n",
       "│ 2   │ 2013  │ 11    │ 1     │ 35       │ 2250           │ 105.0     │\n",
       "│ 3   │ 2013  │ 11    │ 1     │ 455      │ 500            │ -5.0      │\n",
       "│ 4   │ 2013  │ 11    │ 1     │ 539      │ 545            │ -6.0      │\n",
       "│ 5   │ 2013  │ 11    │ 1     │ 542      │ 545            │ -3.0      │\n",
       "│ 6   │ 2013  │ 11    │ 1     │ 549      │ 600            │ -11.0     │"
      ]
     },
     "execution_count": 18,
     "metadata": {},
     "output_type": "execute_result"
    }
   ],
   "source": [
    "first(flights[in([11, 12]).(flights.month), :], 6)"
   ]
  },
  {
   "cell_type": "markdown",
   "metadata": {},
   "source": [
    "Julia takes a little getting used to, but can be very expressive and powerful."
   ]
  },
  {
   "cell_type": "markdown",
   "metadata": {},
   "source": [
    "### Selecting columns\n",
    "\n",
    "We select columns using the `select` and `select!` functions. The `select` function returns a new dataframe, while `select!` does an in-place select, returning a view into the existing dataframe. We'll just use `select`.\n",
    "\n",
    "Let's refresh our memory of what columns we have available."
   ]
  },
  {
   "cell_type": "code",
   "execution_count": 19,
   "metadata": {},
   "outputs": [
    {
     "data": {
      "text/plain": [
       "19-element Array{Symbol,1}:\n",
       " :year          \n",
       " :month         \n",
       " :day           \n",
       " :dep_time      \n",
       " :sched_dep_time\n",
       " :dep_delay     \n",
       " :arr_time      \n",
       " :sched_arr_time\n",
       " :arr_delay     \n",
       " :carrier       \n",
       " :flight        \n",
       " :tailnum       \n",
       " :origin        \n",
       " :dest          \n",
       " :air_time      \n",
       " :distance      \n",
       " :hour          \n",
       " :minute        \n",
       " :time_hour     "
      ]
     },
     "execution_count": 19,
     "metadata": {},
     "output_type": "execute_result"
    }
   ],
   "source": [
    "names(flights)"
   ]
  },
  {
   "cell_type": "markdown",
   "metadata": {},
   "source": [
    "We can select columns by name like this:"
   ]
  },
  {
   "cell_type": "code",
   "execution_count": 20,
   "metadata": {},
   "outputs": [
    {
     "data": {
      "text/html": [
       "<table class=\"data-frame\"><thead><tr><th></th><th>year</th><th>month</th><th>day</th></tr><tr><th></th><th>Int32</th><th>Int32</th><th>Int32</th></tr></thead><tbody><p>6 rows × 3 columns</p><tr><th>1</th><td>2013</td><td>1</td><td>1</td></tr><tr><th>2</th><td>2013</td><td>1</td><td>1</td></tr><tr><th>3</th><td>2013</td><td>1</td><td>1</td></tr><tr><th>4</th><td>2013</td><td>1</td><td>1</td></tr><tr><th>5</th><td>2013</td><td>1</td><td>1</td></tr><tr><th>6</th><td>2013</td><td>1</td><td>1</td></tr></tbody></table>"
      ],
      "text/latex": [
       "\\begin{tabular}{r|ccc}\n",
       "\t& year & month & day\\\\\n",
       "\t\\hline\n",
       "\t& Int32 & Int32 & Int32\\\\\n",
       "\t\\hline\n",
       "\t1 & 2013 & 1 & 1 \\\\\n",
       "\t2 & 2013 & 1 & 1 \\\\\n",
       "\t3 & 2013 & 1 & 1 \\\\\n",
       "\t4 & 2013 & 1 & 1 \\\\\n",
       "\t5 & 2013 & 1 & 1 \\\\\n",
       "\t6 & 2013 & 1 & 1 \\\\\n",
       "\\end{tabular}\n"
      ],
      "text/plain": [
       "6×3 DataFrame\n",
       "│ Row │ year  │ month │ day   │\n",
       "│     │ \u001b[90mInt32\u001b[39m │ \u001b[90mInt32\u001b[39m │ \u001b[90mInt32\u001b[39m │\n",
       "├─────┼───────┼───────┼───────┤\n",
       "│ 1   │ 2013  │ 1     │ 1     │\n",
       "│ 2   │ 2013  │ 1     │ 1     │\n",
       "│ 3   │ 2013  │ 1     │ 1     │\n",
       "│ 4   │ 2013  │ 1     │ 1     │\n",
       "│ 5   │ 2013  │ 1     │ 1     │\n",
       "│ 6   │ 2013  │ 1     │ 1     │"
      ]
     },
     "execution_count": 20,
     "metadata": {},
     "output_type": "execute_result"
    }
   ],
   "source": [
    "first(select(flights, [:year, :month, :day]), 6)"
   ]
  },
  {
   "cell_type": "markdown",
   "metadata": {},
   "source": [
    "We can also select columns by position, but this can easily result in errors if the columns of a dataframe later change."
   ]
  },
  {
   "cell_type": "code",
   "execution_count": 21,
   "metadata": {},
   "outputs": [
    {
     "data": {
      "text/html": [
       "<table class=\"data-frame\"><thead><tr><th></th><th>year</th><th>day</th><th>sched_dep_time</th></tr><tr><th></th><th>Int32</th><th>Int32</th><th>Int32</th></tr></thead><tbody><p>6 rows × 3 columns</p><tr><th>1</th><td>2013</td><td>1</td><td>515</td></tr><tr><th>2</th><td>2013</td><td>1</td><td>529</td></tr><tr><th>3</th><td>2013</td><td>1</td><td>540</td></tr><tr><th>4</th><td>2013</td><td>1</td><td>545</td></tr><tr><th>5</th><td>2013</td><td>1</td><td>600</td></tr><tr><th>6</th><td>2013</td><td>1</td><td>558</td></tr></tbody></table>"
      ],
      "text/latex": [
       "\\begin{tabular}{r|ccc}\n",
       "\t& year & day & sched\\_dep\\_time\\\\\n",
       "\t\\hline\n",
       "\t& Int32 & Int32 & Int32\\\\\n",
       "\t\\hline\n",
       "\t1 & 2013 & 1 & 515 \\\\\n",
       "\t2 & 2013 & 1 & 529 \\\\\n",
       "\t3 & 2013 & 1 & 540 \\\\\n",
       "\t4 & 2013 & 1 & 545 \\\\\n",
       "\t5 & 2013 & 1 & 600 \\\\\n",
       "\t6 & 2013 & 1 & 558 \\\\\n",
       "\\end{tabular}\n"
      ],
      "text/plain": [
       "6×3 DataFrame\n",
       "│ Row │ year  │ day   │ sched_dep_time │\n",
       "│     │ \u001b[90mInt32\u001b[39m │ \u001b[90mInt32\u001b[39m │ \u001b[90mInt32\u001b[39m          │\n",
       "├─────┼───────┼───────┼────────────────┤\n",
       "│ 1   │ 2013  │ 1     │ 515            │\n",
       "│ 2   │ 2013  │ 1     │ 529            │\n",
       "│ 3   │ 2013  │ 1     │ 540            │\n",
       "│ 4   │ 2013  │ 1     │ 545            │\n",
       "│ 5   │ 2013  │ 1     │ 600            │\n",
       "│ 6   │ 2013  │ 1     │ 558            │"
      ]
     },
     "execution_count": 21,
     "metadata": {},
     "output_type": "execute_result"
    }
   ],
   "source": [
    "first(select(flights, [1, 3, 5]), 6)"
   ]
  },
  {
   "cell_type": "markdown",
   "metadata": {},
   "source": [
    "There several other ways we can select columns, but a handy one matches column names using a regular expression."
   ]
  },
  {
   "cell_type": "code",
   "execution_count": 22,
   "metadata": {},
   "outputs": [
    {
     "data": {
      "text/html": [
       "<table class=\"data-frame\"><thead><tr><th></th><th>dep_time</th><th>dep_delay</th><th>arr_time</th><th>arr_delay</th></tr><tr><th></th><th>Int32⍰</th><th>Float64⍰</th><th>Int32⍰</th><th>Float64⍰</th></tr></thead><tbody><p>6 rows × 4 columns</p><tr><th>1</th><td>517</td><td>2.0</td><td>830</td><td>11.0</td></tr><tr><th>2</th><td>533</td><td>4.0</td><td>850</td><td>20.0</td></tr><tr><th>3</th><td>542</td><td>2.0</td><td>923</td><td>33.0</td></tr><tr><th>4</th><td>544</td><td>-1.0</td><td>1004</td><td>-18.0</td></tr><tr><th>5</th><td>554</td><td>-6.0</td><td>812</td><td>-25.0</td></tr><tr><th>6</th><td>554</td><td>-4.0</td><td>740</td><td>12.0</td></tr></tbody></table>"
      ],
      "text/latex": [
       "\\begin{tabular}{r|cccc}\n",
       "\t& dep\\_time & dep\\_delay & arr\\_time & arr\\_delay\\\\\n",
       "\t\\hline\n",
       "\t& Int32⍰ & Float64⍰ & Int32⍰ & Float64⍰\\\\\n",
       "\t\\hline\n",
       "\t1 & 517 & 2.0 & 830 & 11.0 \\\\\n",
       "\t2 & 533 & 4.0 & 850 & 20.0 \\\\\n",
       "\t3 & 542 & 2.0 & 923 & 33.0 \\\\\n",
       "\t4 & 544 & -1.0 & 1004 & -18.0 \\\\\n",
       "\t5 & 554 & -6.0 & 812 & -25.0 \\\\\n",
       "\t6 & 554 & -4.0 & 740 & 12.0 \\\\\n",
       "\\end{tabular}\n"
      ],
      "text/plain": [
       "6×4 DataFrame\n",
       "│ Row │ dep_time │ dep_delay │ arr_time │ arr_delay │\n",
       "│     │ \u001b[90mInt32⍰\u001b[39m   │ \u001b[90mFloat64⍰\u001b[39m  │ \u001b[90mInt32⍰\u001b[39m   │ \u001b[90mFloat64⍰\u001b[39m  │\n",
       "├─────┼──────────┼───────────┼──────────┼───────────┤\n",
       "│ 1   │ 517      │ 2.0       │ 830      │ 11.0      │\n",
       "│ 2   │ 533      │ 4.0       │ 850      │ 20.0      │\n",
       "│ 3   │ 542      │ 2.0       │ 923      │ 33.0      │\n",
       "│ 4   │ 544      │ -1.0      │ 1004     │ -18.0     │\n",
       "│ 5   │ 554      │ -6.0      │ 812      │ -25.0     │\n",
       "│ 6   │ 554      │ -4.0      │ 740      │ 12.0      │"
      ]
     },
     "execution_count": 22,
     "metadata": {},
     "output_type": "execute_result"
    }
   ],
   "source": [
    "first(select(flights, r\"^(dep|arr)\"), 6)"
   ]
  },
  {
   "cell_type": "markdown",
   "metadata": {},
   "source": [
    "### Adding and modifying columns\n",
    "\n",
    "We'll work with a subset of columns of the `flight` dataset. We will select those columns using the `@select` macro from the `Query.jl` package. This package provides functionality similar the `dplyr` package for R."
   ]
  },
  {
   "cell_type": "code",
   "execution_count": 23,
   "metadata": {},
   "outputs": [
    {
     "data": {
      "text/html": [
       "<table class=\"data-frame\"><thead><tr><th></th><th>year</th><th>month</th><th>day</th><th>dep_delay</th><th>arr_delay</th><th>distance</th><th>air_time</th></tr><tr><th></th><th>Int32</th><th>Int32</th><th>Int32</th><th>Float64⍰</th><th>Float64⍰</th><th>Float64</th><th>Float64⍰</th></tr></thead><tbody><p>6 rows × 7 columns</p><tr><th>1</th><td>2013</td><td>1</td><td>1</td><td>2.0</td><td>11.0</td><td>1400.0</td><td>227.0</td></tr><tr><th>2</th><td>2013</td><td>1</td><td>1</td><td>4.0</td><td>20.0</td><td>1416.0</td><td>227.0</td></tr><tr><th>3</th><td>2013</td><td>1</td><td>1</td><td>2.0</td><td>33.0</td><td>1089.0</td><td>160.0</td></tr><tr><th>4</th><td>2013</td><td>1</td><td>1</td><td>-1.0</td><td>-18.0</td><td>1576.0</td><td>183.0</td></tr><tr><th>5</th><td>2013</td><td>1</td><td>1</td><td>-6.0</td><td>-25.0</td><td>762.0</td><td>116.0</td></tr><tr><th>6</th><td>2013</td><td>1</td><td>1</td><td>-4.0</td><td>12.0</td><td>719.0</td><td>150.0</td></tr></tbody></table>"
      ],
      "text/latex": [
       "\\begin{tabular}{r|ccccccc}\n",
       "\t& year & month & day & dep\\_delay & arr\\_delay & distance & air\\_time\\\\\n",
       "\t\\hline\n",
       "\t& Int32 & Int32 & Int32 & Float64⍰ & Float64⍰ & Float64 & Float64⍰\\\\\n",
       "\t\\hline\n",
       "\t1 & 2013 & 1 & 1 & 2.0 & 11.0 & 1400.0 & 227.0 \\\\\n",
       "\t2 & 2013 & 1 & 1 & 4.0 & 20.0 & 1416.0 & 227.0 \\\\\n",
       "\t3 & 2013 & 1 & 1 & 2.0 & 33.0 & 1089.0 & 160.0 \\\\\n",
       "\t4 & 2013 & 1 & 1 & -1.0 & -18.0 & 1576.0 & 183.0 \\\\\n",
       "\t5 & 2013 & 1 & 1 & -6.0 & -25.0 & 762.0 & 116.0 \\\\\n",
       "\t6 & 2013 & 1 & 1 & -4.0 & 12.0 & 719.0 & 150.0 \\\\\n",
       "\\end{tabular}\n"
      ],
      "text/plain": [
       "6×7 DataFrame\n",
       "│ Row │ year  │ month │ day   │ dep_delay │ arr_delay │ distance │ air_time │\n",
       "│     │ \u001b[90mInt32\u001b[39m │ \u001b[90mInt32\u001b[39m │ \u001b[90mInt32\u001b[39m │ \u001b[90mFloat64⍰\u001b[39m  │ \u001b[90mFloat64⍰\u001b[39m  │ \u001b[90mFloat64\u001b[39m  │ \u001b[90mFloat64⍰\u001b[39m │\n",
       "├─────┼───────┼───────┼───────┼───────────┼───────────┼──────────┼──────────┤\n",
       "│ 1   │ 2013  │ 1     │ 1     │ 2.0       │ 11.0      │ 1400.0   │ 227.0    │\n",
       "│ 2   │ 2013  │ 1     │ 1     │ 4.0       │ 20.0      │ 1416.0   │ 227.0    │\n",
       "│ 3   │ 2013  │ 1     │ 1     │ 2.0       │ 33.0      │ 1089.0   │ 160.0    │\n",
       "│ 4   │ 2013  │ 1     │ 1     │ -1.0      │ -18.0     │ 1576.0   │ 183.0    │\n",
       "│ 5   │ 2013  │ 1     │ 1     │ -6.0      │ -25.0     │ 762.0    │ 116.0    │\n",
       "│ 6   │ 2013  │ 1     │ 1     │ -4.0      │ 12.0      │ 719.0    │ 150.0    │"
      ]
     },
     "execution_count": 23,
     "metadata": {},
     "output_type": "execute_result"
    }
   ],
   "source": [
    "using Query\n",
    "\n",
    "flights_sml = flights |> \n",
    "  @select(flights, 1:3, endswith(\"delay\"), :distance, :air_time) |>\n",
    "  DataFrame\n",
    "\n",
    "first(flights_sml, 6)"
   ]
  },
  {
   "cell_type": "markdown",
   "metadata": {},
   "source": [
    "Now we can add columns using the `@mutate` macro, also from `Query.jl`."
   ]
  },
  {
   "cell_type": "code",
   "execution_count": 24,
   "metadata": {},
   "outputs": [
    {
     "data": {
      "text/html": [
       "<table class=\"data-frame\"><thead><tr><th></th><th>year</th><th>month</th><th>day</th><th>dep_delay</th><th>arr_delay</th><th>distance</th><th>air_time</th><th>gain</th><th>speed</th></tr><tr><th></th><th>Int32</th><th>Int32</th><th>Int32</th><th>Float64⍰</th><th>Float64⍰</th><th>Float64</th><th>Float64⍰</th><th>Float64⍰</th><th>Float64⍰</th></tr></thead><tbody><p>6 rows × 9 columns</p><tr><th>1</th><td>2013</td><td>1</td><td>1</td><td>2.0</td><td>11.0</td><td>1400.0</td><td>227.0</td><td>-9.0</td><td>370.044</td></tr><tr><th>2</th><td>2013</td><td>1</td><td>1</td><td>4.0</td><td>20.0</td><td>1416.0</td><td>227.0</td><td>-16.0</td><td>374.273</td></tr><tr><th>3</th><td>2013</td><td>1</td><td>1</td><td>2.0</td><td>33.0</td><td>1089.0</td><td>160.0</td><td>-31.0</td><td>408.375</td></tr><tr><th>4</th><td>2013</td><td>1</td><td>1</td><td>-1.0</td><td>-18.0</td><td>1576.0</td><td>183.0</td><td>17.0</td><td>516.721</td></tr><tr><th>5</th><td>2013</td><td>1</td><td>1</td><td>-6.0</td><td>-25.0</td><td>762.0</td><td>116.0</td><td>19.0</td><td>394.138</td></tr><tr><th>6</th><td>2013</td><td>1</td><td>1</td><td>-4.0</td><td>12.0</td><td>719.0</td><td>150.0</td><td>-16.0</td><td>287.6</td></tr></tbody></table>"
      ],
      "text/latex": [
       "\\begin{tabular}{r|ccccccccc}\n",
       "\t& year & month & day & dep\\_delay & arr\\_delay & distance & air\\_time & gain & speed\\\\\n",
       "\t\\hline\n",
       "\t& Int32 & Int32 & Int32 & Float64⍰ & Float64⍰ & Float64 & Float64⍰ & Float64⍰ & Float64⍰\\\\\n",
       "\t\\hline\n",
       "\t1 & 2013 & 1 & 1 & 2.0 & 11.0 & 1400.0 & 227.0 & -9.0 & 370.044 \\\\\n",
       "\t2 & 2013 & 1 & 1 & 4.0 & 20.0 & 1416.0 & 227.0 & -16.0 & 374.273 \\\\\n",
       "\t3 & 2013 & 1 & 1 & 2.0 & 33.0 & 1089.0 & 160.0 & -31.0 & 408.375 \\\\\n",
       "\t4 & 2013 & 1 & 1 & -1.0 & -18.0 & 1576.0 & 183.0 & 17.0 & 516.721 \\\\\n",
       "\t5 & 2013 & 1 & 1 & -6.0 & -25.0 & 762.0 & 116.0 & 19.0 & 394.138 \\\\\n",
       "\t6 & 2013 & 1 & 1 & -4.0 & 12.0 & 719.0 & 150.0 & -16.0 & 287.6 \\\\\n",
       "\\end{tabular}\n"
      ],
      "text/plain": [
       "6×9 DataFrame. Omitted printing of 2 columns\n",
       "│ Row │ year  │ month │ day   │ dep_delay │ arr_delay │ distance │ air_time │\n",
       "│     │ \u001b[90mInt32\u001b[39m │ \u001b[90mInt32\u001b[39m │ \u001b[90mInt32\u001b[39m │ \u001b[90mFloat64⍰\u001b[39m  │ \u001b[90mFloat64⍰\u001b[39m  │ \u001b[90mFloat64\u001b[39m  │ \u001b[90mFloat64⍰\u001b[39m │\n",
       "├─────┼───────┼───────┼───────┼───────────┼───────────┼──────────┼──────────┤\n",
       "│ 1   │ 2013  │ 1     │ 1     │ 2.0       │ 11.0      │ 1400.0   │ 227.0    │\n",
       "│ 2   │ 2013  │ 1     │ 1     │ 4.0       │ 20.0      │ 1416.0   │ 227.0    │\n",
       "│ 3   │ 2013  │ 1     │ 1     │ 2.0       │ 33.0      │ 1089.0   │ 160.0    │\n",
       "│ 4   │ 2013  │ 1     │ 1     │ -1.0      │ -18.0     │ 1576.0   │ 183.0    │\n",
       "│ 5   │ 2013  │ 1     │ 1     │ -6.0      │ -25.0     │ 762.0    │ 116.0    │\n",
       "│ 6   │ 2013  │ 1     │ 1     │ -4.0      │ 12.0      │ 719.0    │ 150.0    │"
      ]
     },
     "execution_count": 24,
     "metadata": {},
     "output_type": "execute_result"
    }
   ],
   "source": [
    "flights_sml |>\n",
    "  @mutate(gain = _.dep_delay - _.arr_delay,\n",
    "          speed = (_.distance / _.air_time) * 60) |>\n",
    "  DataFrame |>\n",
    "  (x -> first(x, 6))"
   ]
  },
  {
   "cell_type": "markdown",
   "metadata": {},
   "source": [
    "### Sorting\n",
    "\n",
    "A `DataFrame` can be sorted using the standard `sort` function. Note that `sort` produces a copy of the `DataFrame`. To sort in place, use `sort!` instead."
   ]
  },
  {
   "cell_type": "code",
   "execution_count": 25,
   "metadata": {},
   "outputs": [
    {
     "data": {
      "text/html": [
       "<table class=\"data-frame\"><thead><tr><th></th><th>year</th><th>month</th><th>day</th><th>dep_time</th><th>sched_dep_time</th><th>dep_delay</th><th>arr_time</th><th>sched_arr_time</th></tr><tr><th></th><th>Int32</th><th>Int32</th><th>Int32</th><th>Int32⍰</th><th>Int32</th><th>Float64⍰</th><th>Int32⍰</th><th>Int32</th></tr></thead><tbody><p>6 rows × 19 columns (omitted printing of 11 columns)</p><tr><th>1</th><td>2013</td><td>1</td><td>1</td><td>517</td><td>515</td><td>2.0</td><td>830</td><td>819</td></tr><tr><th>2</th><td>2013</td><td>1</td><td>1</td><td>533</td><td>529</td><td>4.0</td><td>850</td><td>830</td></tr><tr><th>3</th><td>2013</td><td>1</td><td>1</td><td>542</td><td>540</td><td>2.0</td><td>923</td><td>850</td></tr><tr><th>4</th><td>2013</td><td>1</td><td>1</td><td>544</td><td>545</td><td>-1.0</td><td>1004</td><td>1022</td></tr><tr><th>5</th><td>2013</td><td>1</td><td>1</td><td>554</td><td>600</td><td>-6.0</td><td>812</td><td>837</td></tr><tr><th>6</th><td>2013</td><td>1</td><td>1</td><td>554</td><td>558</td><td>-4.0</td><td>740</td><td>728</td></tr></tbody></table>"
      ],
      "text/latex": [
       "\\begin{tabular}{r|ccccccccc}\n",
       "\t& year & month & day & dep\\_time & sched\\_dep\\_time & dep\\_delay & arr\\_time & sched\\_arr\\_time & \\\\\n",
       "\t\\hline\n",
       "\t& Int32 & Int32 & Int32 & Int32⍰ & Int32 & Float64⍰ & Int32⍰ & Int32 & \\\\\n",
       "\t\\hline\n",
       "\t1 & 2013 & 1 & 1 & 517 & 515 & 2.0 & 830 & 819 & $\\dots$ \\\\\n",
       "\t2 & 2013 & 1 & 1 & 533 & 529 & 4.0 & 850 & 830 & $\\dots$ \\\\\n",
       "\t3 & 2013 & 1 & 1 & 542 & 540 & 2.0 & 923 & 850 & $\\dots$ \\\\\n",
       "\t4 & 2013 & 1 & 1 & 544 & 545 & -1.0 & 1004 & 1022 & $\\dots$ \\\\\n",
       "\t5 & 2013 & 1 & 1 & 554 & 600 & -6.0 & 812 & 837 & $\\dots$ \\\\\n",
       "\t6 & 2013 & 1 & 1 & 554 & 558 & -4.0 & 740 & 728 & $\\dots$ \\\\\n",
       "\\end{tabular}\n"
      ],
      "text/plain": [
       "6×19 DataFrame. Omitted printing of 13 columns\n",
       "│ Row │ year  │ month │ day   │ dep_time │ sched_dep_time │ dep_delay │\n",
       "│     │ \u001b[90mInt32\u001b[39m │ \u001b[90mInt32\u001b[39m │ \u001b[90mInt32\u001b[39m │ \u001b[90mInt32⍰\u001b[39m   │ \u001b[90mInt32\u001b[39m          │ \u001b[90mFloat64⍰\u001b[39m  │\n",
       "├─────┼───────┼───────┼───────┼──────────┼────────────────┼───────────┤\n",
       "│ 1   │ 2013  │ 1     │ 1     │ 517      │ 515            │ 2.0       │\n",
       "│ 2   │ 2013  │ 1     │ 1     │ 533      │ 529            │ 4.0       │\n",
       "│ 3   │ 2013  │ 1     │ 1     │ 542      │ 540            │ 2.0       │\n",
       "│ 4   │ 2013  │ 1     │ 1     │ 544      │ 545            │ -1.0      │\n",
       "│ 5   │ 2013  │ 1     │ 1     │ 554      │ 600            │ -6.0      │\n",
       "│ 6   │ 2013  │ 1     │ 1     │ 554      │ 558            │ -4.0      │"
      ]
     },
     "execution_count": 25,
     "metadata": {},
     "output_type": "execute_result"
    }
   ],
   "source": [
    "first(sort(flights, (:year, :month, :day)), 6)"
   ]
  },
  {
   "cell_type": "code",
   "execution_count": null,
   "metadata": {},
   "outputs": [],
   "source": []
  }
 ],
 "metadata": {
  "kernelspec": {
   "display_name": "Julia 1.3.0",
   "language": "julia",
   "name": "julia-1.3"
  },
  "language_info": {
   "file_extension": ".jl",
   "mimetype": "application/julia",
   "name": "julia",
   "version": "1.3.0"
  }
 },
 "nbformat": 4,
 "nbformat_minor": 2
}

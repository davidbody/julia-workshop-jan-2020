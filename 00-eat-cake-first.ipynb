{
 "cells": [
  {
   "cell_type": "markdown",
   "metadata": {},
   "source": [
    "# Julia workshop - first example\n",
    "\n",
    "Welcome!\n",
    "\n",
    "The purpose of this first example is to introduce you to Jupyter Notebooks and to let you interact with some moderately complex Julia code. This code may appear mysterious and confusing now, but by the end of the workshop, we will have covered enough Julia so that almost all of this code will make sense.\n",
    "\n",
    "> *Note:* This example is inspired by a teaching approach described by [Mine Çetinkaya-Rundel](https://twitter.com/minebocek) in a lecture she gave at Harvard called *Let Them Eat Cake (First!)* You can watch a video here: https://www.youtube.com/watch?v=RsVOrpXAPXo\n",
    "\n",
    "## Jupyter notebooks\n",
    "\n",
    "This is an example of a [Jupyter Notebook](https://jupyter.org/). A Jupyter notebook consists of cells. There are three types of cells.\n",
    "\n",
    "* Code cells\n",
    "* Markdown cells\n",
    "* Raw cells\n",
    "\n",
    "This first cell is an example of a Markdown cell. If you select it (by using arrow keys or by clicking with your mouse) and then press *Enter*, you will see editable Markdown code instead of nicely formatted HTML.\n",
    "\n",
    "Make some changes if you like and then press *Shift-Enter* to \"execute\" the cell and move to the next one.\n",
    "\n",
    "The next cell is a Code cell that contains Julia code.\n",
    "\n",
    "Go ahead and press *Shift-Enter* again to execute the Julia code. This code loads some libraries we will need for the example and it will take a few seconds to run."
   ]
  },
  {
   "cell_type": "code",
   "execution_count": null,
   "metadata": {},
   "outputs": [],
   "source": [
    "using CSV\n",
    "using DataFrames\n",
    "using Query\n",
    "using Gadfly"
   ]
  },
  {
   "cell_type": "markdown",
   "metadata": {},
   "source": [
    "This example uses data from [Our World in Data](https://ourworldindata.org/) and illustrates how incomes have changed over time for people at different points in income distributions for various countries.\n",
    "\n",
    "You can read about this in detail at [How are the incomes of the rich changing relative to the incomes of the poor?](https://ourworldindata.org/income-inequality#how-are-the-incomes-of-the-rich-changing-relative-to-the-incomes-of-the-poor)\n",
    "\n",
    "Execute the next cell to read the data from a CSV file."
   ]
  },
  {
   "cell_type": "code",
   "execution_count": null,
   "metadata": {},
   "outputs": [],
   "source": [
    "household_income_raw = CSV.read(\"./data/real-disposable-household-income-indexed.csv\")"
   ]
  },
  {
   "cell_type": "markdown",
   "metadata": {},
   "source": [
    "## Data wrangling\n",
    "\n",
    "Next we will do some data wrangling to get this data into a format that easier to plot. We will cover data wrangling in the workshop, but for now just execute the next cell.\n",
    "\n",
    "You may get a warning related to some code in a Julia library. That's OK and won't affect the example.\n",
    "\n",
    "Notice how the structure the dataset changes."
   ]
  },
  {
   "cell_type": "code",
   "execution_count": null,
   "metadata": {},
   "outputs": [],
   "source": [
    "household_income = household_income_raw |>\n",
    "    @rename(:Entity => :Country) |>\n",
    "    DataFrame |>\n",
    "    (df -> stack(df, r\"\\d+\")) |>\n",
    "    (df -> categorical(df, [:Country, :Code])) |>\n",
    "    @rename(:variable => :Decile, :value => :Index) |>\n",
    "    DataFrame"
   ]
  },
  {
   "cell_type": "markdown",
   "metadata": {},
   "source": [
    "## Data visualization\n",
    "\n",
    "Now we're ready to make some plots. Execute the next cell to plot data from the United Kingdom.\n",
    "\n",
    "Again, you may see a warning. This time the code will take longer to run. We'll talk about why in the workshop.\n",
    "\n",
    "We'll also discuss what the plot means."
   ]
  },
  {
   "cell_type": "code",
   "execution_count": null,
   "metadata": {},
   "outputs": [],
   "source": [
    "set_default_plot_size(800px, 600px)\n",
    "\n",
    "household_income |>\n",
    "    @filter(_.Country == \"United Kingdom\") |>\n",
    "    DataFrame |>\n",
    "    (df -> plot(df, x=:Year,\n",
    "                    y=:Index,\n",
    "                    color=:Decile,\n",
    "                    layer(Geom.line, Geom.point),\n",
    "                    layer(yintercept=[100], Geom.hline(color=[\"black\"], style=[:dot])),\n",
    "                    Guide.title(\"Growth of Real Disposable Household Income by Decile\")))"
   ]
  },
  {
   "cell_type": "markdown",
   "metadata": {},
   "source": [
    "Now we'll compare two countries. Execute the next cell to compare the United Kingdom and the United States.\n",
    "\n",
    "This time the code should run faster."
   ]
  },
  {
   "cell_type": "code",
   "execution_count": null,
   "metadata": {},
   "outputs": [],
   "source": [
    "countries = [\"United Kingdom\", \"United States\"]\n",
    "household_income |>\n",
    "    @filter(_.Country in countries) |>\n",
    "    DataFrame |>\n",
    "    (df -> plot(df, x=:Year,\n",
    "                    y=:Index,\n",
    "                    color=:Decile,\n",
    "                    xgroup=:Country,\n",
    "                    Geom.subplot_grid(layer(Geom.line, Geom.point),\n",
    "                                      layer(DataFrame(yint=[100, 100], Country=countries),\n",
    "                                            xgroup=:Country, yintercept=:yint,\n",
    "                                            Geom.hline(color=\"black\", style=:dot))),\n",
    "                    Guide.title(\"Growth of Real Disposable Household Income by Decile\")))"
   ]
  },
  {
   "cell_type": "markdown",
   "metadata": {},
   "source": [
    "Now it's your turn to do some coding. Modify the example above to compare other countries.\n",
    "\n",
    "If you want to see a list of countries in the dataset, you can run `show(unique(household_income.Country))` in a new code cell."
   ]
  },
  {
   "cell_type": "code",
   "execution_count": null,
   "metadata": {},
   "outputs": [],
   "source": []
  }
 ],
 "metadata": {
  "kernelspec": {
   "display_name": "Julia 1.3.0",
   "language": "julia",
   "name": "julia-1.3"
  },
  "language_info": {
   "file_extension": ".jl",
   "mimetype": "application/julia",
   "name": "julia",
   "version": "1.3.0"
  }
 },
 "nbformat": 4,
 "nbformat_minor": 2
}

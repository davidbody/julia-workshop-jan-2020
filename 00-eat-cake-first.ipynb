{
 "cells": [
  {
   "cell_type": "code",
   "execution_count": null,
   "metadata": {},
   "outputs": [],
   "source": [
    "# https://ourworldindata.org/income-inequality#how-are-the-incomes-of-the-rich-changing-relative-to-the-incomes-of-the-poor\n",
    "\n",
    "using CSV\n",
    "using DataFrames\n",
    "using Query\n",
    "using Gadfly"
   ]
  },
  {
   "cell_type": "code",
   "execution_count": null,
   "metadata": {},
   "outputs": [],
   "source": [
    "household_income_raw = CSV.read(\"./data/real-disposable-household-income-indexed.csv\")"
   ]
  },
  {
   "cell_type": "code",
   "execution_count": null,
   "metadata": {},
   "outputs": [],
   "source": [
    "household_income = household_income_raw |>\n",
    "    @rename(:Entity => :Country) |>\n",
    "    DataFrame |>\n",
    "    (df -> stack(df, r\"\\d+\")) |>\n",
    "    (df -> categorical(df, [:Country, :Code])) |>\n",
    "    @rename(:variable => :Decile, :value => :Index) |>\n",
    "    DataFrame"
   ]
  },
  {
   "cell_type": "code",
   "execution_count": null,
   "metadata": {},
   "outputs": [],
   "source": [
    "set_default_plot_size(800px, 600px)\n",
    "\n",
    "household_income |>\n",
    "    @filter(_.Country == \"United Kingdom\") |>\n",
    "    DataFrame |>\n",
    "    (df -> plot(df, x=:Year,\n",
    "                    y=:Index,\n",
    "                    color=:Decile,\n",
    "                    layer(Geom.line, Geom.point),\n",
    "                    layer(yintercept=[100], Geom.hline(color=[\"black\"], style=[:dot])),\n",
    "                    Guide.title(\"Growth of Real Disposable Household Income by Decile\")))"
   ]
  },
  {
   "cell_type": "code",
   "execution_count": null,
   "metadata": {},
   "outputs": [],
   "source": [
    "countries = [\"United Kingdom\", \"United States\"]\n",
    "household_income |>\n",
    "    @filter(_.Country in countries) |>\n",
    "    DataFrame |>\n",
    "    (df -> plot(df, x=:Year,\n",
    "                    y=:Index,\n",
    "                    color=:Decile,\n",
    "                    xgroup=:Country,\n",
    "                    Geom.subplot_grid(layer(Geom.line, Geom.point),\n",
    "                                      layer(DataFrame(yint=[100, 100], Country=countries),\n",
    "                                            xgroup=:Country, yintercept=:yint,\n",
    "                                            Geom.hline(color=\"black\", style=:dot))),\n",
    "                    Guide.title(\"Growth of Real Disposable Household Income by Decile\")))"
   ]
  },
  {
   "cell_type": "code",
   "execution_count": null,
   "metadata": {},
   "outputs": [],
   "source": []
  }
 ],
 "metadata": {
  "kernelspec": {
   "display_name": "Julia 1.3.0",
   "language": "julia",
   "name": "julia-1.3"
  },
  "language_info": {
   "file_extension": ".jl",
   "mimetype": "application/julia",
   "name": "julia",
   "version": "1.3.0"
  }
 },
 "nbformat": 4,
 "nbformat_minor": 2
}
